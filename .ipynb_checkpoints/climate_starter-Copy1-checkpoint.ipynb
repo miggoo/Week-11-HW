{
 "cells": [
  {
   "cell_type": "code",
   "execution_count": 6,
   "metadata": {},
   "outputs": [],
   "source": [
    "%matplotlib inline\n",
    "from matplotlib import style\n",
    "style.use('fivethirtyeight')\n",
    "import matplotlib.pyplot as plt\n"
   ]
  },
  {
   "cell_type": "code",
   "execution_count": 7,
   "metadata": {},
   "outputs": [],
   "source": [
    "import numpy as np\n",
    "import pandas as pd"
   ]
  },
  {
   "cell_type": "code",
   "execution_count": 8,
   "metadata": {},
   "outputs": [],
   "source": [
    "import datetime as dt"
   ]
  },
  {
   "cell_type": "markdown",
   "metadata": {},
   "source": [
    "# Reflect Tables into SQLAlchemy ORM"
   ]
  },
  {
   "cell_type": "code",
   "execution_count": 9,
   "metadata": {},
   "outputs": [
    {
     "ename": "NameError",
     "evalue": "name 'inspect' is not defined",
     "output_type": "error",
     "traceback": [
      "\u001b[1;31m---------------------------------------------------------------------------\u001b[0m",
      "\u001b[1;31mNameError\u001b[0m                                 Traceback (most recent call last)",
      "\u001b[1;32m<ipython-input-9-e2403c5632d4>\u001b[0m in \u001b[0;36m<module>\u001b[1;34m()\u001b[0m\n\u001b[1;32m----> 1\u001b[1;33m \u001b[0minspector\u001b[0m \u001b[1;33m=\u001b[0m \u001b[0minspect\u001b[0m\u001b[1;33m(\u001b[0m\u001b[0mengine\u001b[0m\u001b[1;33m)\u001b[0m\u001b[1;33m\u001b[0m\u001b[0m\n\u001b[0m\u001b[0;32m      2\u001b[0m \u001b[0minspector\u001b[0m\u001b[1;33m.\u001b[0m\u001b[0mget_table_names\u001b[0m\u001b[1;33m(\u001b[0m\u001b[1;33m)\u001b[0m\u001b[1;33m\u001b[0m\u001b[0m\n\u001b[0;32m      3\u001b[0m \u001b[0mcolumns\u001b[0m \u001b[1;33m=\u001b[0m \u001b[0minspector\u001b[0m\u001b[1;33m.\u001b[0m\u001b[0mget_columns\u001b[0m\u001b[1;33m(\u001b[0m\u001b[1;34m'measurement'\u001b[0m\u001b[1;33m)\u001b[0m\u001b[1;33m\u001b[0m\u001b[0m\n\u001b[0;32m      4\u001b[0m \u001b[1;32mfor\u001b[0m \u001b[0mc\u001b[0m \u001b[1;32min\u001b[0m \u001b[0mcolumns\u001b[0m\u001b[1;33m:\u001b[0m\u001b[1;33m\u001b[0m\u001b[0m\n\u001b[0;32m      5\u001b[0m     \u001b[0mprint\u001b[0m\u001b[1;33m(\u001b[0m\u001b[0mc\u001b[0m\u001b[1;33m[\u001b[0m\u001b[1;34m'name'\u001b[0m\u001b[1;33m]\u001b[0m\u001b[1;33m,\u001b[0m \u001b[0mc\u001b[0m\u001b[1;33m[\u001b[0m\u001b[1;34m\"type\"\u001b[0m\u001b[1;33m]\u001b[0m\u001b[1;33m)\u001b[0m\u001b[1;33m\u001b[0m\u001b[0m\n",
      "\u001b[1;31mNameError\u001b[0m: name 'inspect' is not defined"
     ]
    }
   ],
   "source": [
    "inspector = inspect(engine)\n",
    "inspector.get_table_names()\n",
    "columns = inspector.get_columns('measurement')\n",
    "for c in columns:\n",
    "    print(c['name'], c[\"type\"])"
   ]
  },
  {
   "cell_type": "code",
   "execution_count": 10,
   "metadata": {},
   "outputs": [],
   "source": [
    "# Python SQL toolkit and Object Relational Mapper\n",
    "import sqlalchemy\n",
    "from sqlalchemy.ext.automap import automap_base\n",
    "from sqlalchemy.orm import Session\n",
    "from sqlalchemy import create_engine, func, inspect"
   ]
  },
  {
   "cell_type": "code",
   "execution_count": 11,
   "metadata": {},
   "outputs": [],
   "source": [
    "engine = create_engine(\"sqlite:///Resources/hawaii.sqlite\")"
   ]
  },
  {
   "cell_type": "code",
   "execution_count": 12,
   "metadata": {},
   "outputs": [],
   "source": [
    "# reflect an existing database into a new model\n",
    "Base = automap_base()\n",
    "# reflect the tables\n",
    "Base.prepare(engine, reflect=True)"
   ]
  },
  {
   "cell_type": "code",
   "execution_count": 13,
   "metadata": {},
   "outputs": [],
   "source": [
    "Measurement = Base.classes.measurement\n",
    "Station = Base.classes.station"
   ]
  },
  {
   "cell_type": "code",
   "execution_count": 14,
   "metadata": {},
   "outputs": [
    {
     "data": {
      "text/plain": [
       "['measurement', 'station']"
      ]
     },
     "execution_count": 14,
     "metadata": {},
     "output_type": "execute_result"
    }
   ],
   "source": [
    "# We can view all of the classes that automap found\n",
    "Base.classes.keys()"
   ]
  },
  {
   "cell_type": "code",
   "execution_count": 15,
   "metadata": {},
   "outputs": [],
   "source": [
    "# Create our session (link) from Python to the DB\n",
    "session = Session(engine)\n"
   ]
  },
  {
   "cell_type": "markdown",
   "metadata": {},
   "source": [
    "columns = inspector.get_columns('measurement')\n",
    "print(columns)"
   ]
  },
  {
   "cell_type": "markdown",
   "metadata": {},
   "source": [
    "columns = inspector.get_columns('measurement') print(columns)"
   ]
  },
  {
   "cell_type": "markdown",
   "metadata": {},
   "source": [
    "# Exploratory Climate Analysis"
   ]
  },
  {
   "cell_type": "code",
   "execution_count": null,
   "metadata": {},
   "outputs": [],
   "source": [
    "\n"
   ]
  },
  {
   "cell_type": "code",
   "execution_count": 16,
   "metadata": {
    "scrolled": true
   },
   "outputs": [
    {
     "data": {
      "text/html": [
       "<div>\n",
       "<style scoped>\n",
       "    .dataframe tbody tr th:only-of-type {\n",
       "        vertical-align: middle;\n",
       "    }\n",
       "\n",
       "    .dataframe tbody tr th {\n",
       "        vertical-align: top;\n",
       "    }\n",
       "\n",
       "    .dataframe thead th {\n",
       "        text-align: right;\n",
       "    }\n",
       "</style>\n",
       "<table border=\"1\" class=\"dataframe\">\n",
       "  <thead>\n",
       "    <tr style=\"text-align: right;\">\n",
       "      <th></th>\n",
       "      <th>a</th>\n",
       "      <th>station</th>\n",
       "      <th>date</th>\n",
       "      <th>precipitation</th>\n",
       "      <th>tobs</th>\n",
       "    </tr>\n",
       "  </thead>\n",
       "  <tbody>\n",
       "    <tr>\n",
       "      <th>0</th>\n",
       "      <td>2429</td>\n",
       "      <td>USC00519397</td>\n",
       "      <td>2016-10-27</td>\n",
       "      <td>0.00</td>\n",
       "      <td>77.0</td>\n",
       "    </tr>\n",
       "    <tr>\n",
       "      <th>1</th>\n",
       "      <td>2430</td>\n",
       "      <td>USC00519397</td>\n",
       "      <td>2016-10-28</td>\n",
       "      <td>0.00</td>\n",
       "      <td>78.0</td>\n",
       "    </tr>\n",
       "    <tr>\n",
       "      <th>2</th>\n",
       "      <td>2431</td>\n",
       "      <td>USC00519397</td>\n",
       "      <td>2016-10-29</td>\n",
       "      <td>0.00</td>\n",
       "      <td>77.0</td>\n",
       "    </tr>\n",
       "    <tr>\n",
       "      <th>3</th>\n",
       "      <td>2432</td>\n",
       "      <td>USC00519397</td>\n",
       "      <td>2016-10-30</td>\n",
       "      <td>0.24</td>\n",
       "      <td>76.0</td>\n",
       "    </tr>\n",
       "    <tr>\n",
       "      <th>4</th>\n",
       "      <td>2433</td>\n",
       "      <td>USC00519397</td>\n",
       "      <td>2016-10-31</td>\n",
       "      <td>0.03</td>\n",
       "      <td>77.0</td>\n",
       "    </tr>\n",
       "  </tbody>\n",
       "</table>\n",
       "</div>"
      ],
      "text/plain": [
       "      a      station        date  precipitation  tobs\n",
       "0  2429  USC00519397  2016-10-27           0.00  77.0\n",
       "1  2430  USC00519397  2016-10-28           0.00  78.0\n",
       "2  2431  USC00519397  2016-10-29           0.00  77.0\n",
       "3  2432  USC00519397  2016-10-30           0.24  76.0\n",
       "4  2433  USC00519397  2016-10-31           0.03  77.0"
      ]
     },
     "execution_count": 16,
     "metadata": {},
     "output_type": "execute_result"
    }
   ],
   "source": [
    "# Design a query to retrieve the last 12 months of precipitation data and plot the results\n",
    "\n",
    "alldata = engine.execute('SELECT * FROM measurement WHERE date >= \"2016-10-27\" AND date < \"2017-10-27\"').fetchall()\n",
    "alldata_df = pd.DataFrame.from_dict(alldata)  \n",
    "alldata_df.columns = ['a','station','date','precipitation','tobs']\n",
    "\n",
    "#alldata_df.head()\n",
    "# Calculate the date 1 year ago from today\n",
    "\n",
    "# Perform a query to retrieve the data and precipitation scores\n",
    "mo12data = engine.execute('SELECT date,prcp FROM measurement WHERE date >= \"2016-10-27\" AND date < \"2017-10-27\"').fetchall()\n",
    "#print(mo12data)\n",
    "data2yrsago = mo12data\n",
    "#print(data2yrsago)\n",
    "# Save the query results as a Pandas DataFrame and set the index to the date column\n",
    "date2_df = pd.DataFrame.from_dict(data2yrsago)\n",
    "#date2_df.head(10)\n",
    "date2_df.columns = ['date','precipitation']\n",
    "#date2_df.head()\n",
    "bydate_df = date2_df.set_index('date', inplace=False)\n",
    "#bydate_df.head()\n",
    "\n",
    "alldata_df.head()"
   ]
  },
  {
   "cell_type": "code",
   "execution_count": 17,
   "metadata": {
    "scrolled": true
   },
   "outputs": [
    {
     "data": {
      "image/png": "[encoded data removed]",
      "text/plain": [
       "<Figure size 1440x720 with 1 Axes>"
      ]
     },
     "metadata": {},
     "output_type": "display_data"
    }
   ],
   "source": [
    "# Use Pandas Plotting with Matplotlib to plot the data\n",
    "new_df = date2_df.reset_index()\n",
    "new_df.head()\n",
    "x1 = new_df['date'].tolist()\n",
    "x2 = pd.to_datetime(x1,infer_datetime_format=True)\n",
    "y1 = new_df['precipitation'].tolist()\n",
    "\n",
    "plt.figure(figsize=(20,10))\n",
    "\n",
    "plt.bar(x2, y1)\n",
    "plt.xlabel('Date')\n",
    "plt.ylabel('Precipitation')\n",
    "plt.title('Daily Precipitation, 10/27/16 to 10/27/16')\n",
    "plt.xticks(rotation=90)\n",
    "plt.show()\n",
    "\n",
    "# Rotate the xticks for the dates"
   ]
  },
  {
   "cell_type": "markdown",
   "metadata": {},
   "source": [
    "![precipitation](Images/precipitation.png)"
   ]
  },
  {
   "cell_type": "code",
   "execution_count": 18,
   "metadata": {
    "scrolled": true
   },
   "outputs": [
    {
     "data": {
      "text/html": [
       "<div>\n",
       "<style scoped>\n",
       "    .dataframe tbody tr th:only-of-type {\n",
       "        vertical-align: middle;\n",
       "    }\n",
       "\n",
       "    .dataframe tbody tr th {\n",
       "        vertical-align: top;\n",
       "    }\n",
       "\n",
       "    .dataframe thead th {\n",
       "        text-align: right;\n",
       "    }\n",
       "</style>\n",
       "<table border=\"1\" class=\"dataframe\">\n",
       "  <thead>\n",
       "    <tr style=\"text-align: right;\">\n",
       "      <th></th>\n",
       "      <th>precipitation</th>\n",
       "    </tr>\n",
       "  </thead>\n",
       "  <tbody>\n",
       "    <tr>\n",
       "      <th>count</th>\n",
       "      <td>1646.000000</td>\n",
       "    </tr>\n",
       "    <tr>\n",
       "      <th>mean</th>\n",
       "      <td>0.165595</td>\n",
       "    </tr>\n",
       "    <tr>\n",
       "      <th>std</th>\n",
       "      <td>0.431122</td>\n",
       "    </tr>\n",
       "    <tr>\n",
       "      <th>min</th>\n",
       "      <td>0.000000</td>\n",
       "    </tr>\n",
       "    <tr>\n",
       "      <th>25%</th>\n",
       "      <td>0.000000</td>\n",
       "    </tr>\n",
       "    <tr>\n",
       "      <th>50%</th>\n",
       "      <td>0.010000</td>\n",
       "    </tr>\n",
       "    <tr>\n",
       "      <th>75%</th>\n",
       "      <td>0.120000</td>\n",
       "    </tr>\n",
       "    <tr>\n",
       "      <th>max</th>\n",
       "      <td>6.250000</td>\n",
       "    </tr>\n",
       "  </tbody>\n",
       "</table>\n",
       "</div>"
      ],
      "text/plain": [
       "       precipitation\n",
       "count    1646.000000\n",
       "mean        0.165595\n",
       "std         0.431122\n",
       "min         0.000000\n",
       "25%         0.000000\n",
       "50%         0.010000\n",
       "75%         0.120000\n",
       "max         6.250000"
      ]
     },
     "execution_count": 18,
     "metadata": {},
     "output_type": "execute_result"
    }
   ],
   "source": [
    "# Use Pandas to calcualte the summary statistics for the precipitation data\n",
    "description = new_df['precipitation'].describe()\n",
    "description_df = pd.DataFrame.from_dict(description)\n",
    "description_df\n"
   ]
  },
  {
   "cell_type": "code",
   "execution_count": 19,
   "metadata": {},
   "outputs": [
    {
     "name": "stdout",
     "output_type": "stream",
     "text": [
      "7\n"
     ]
    }
   ],
   "source": [
    "# How many stations are available in this dataset?\n",
    "alldata_df.groupby('station').count()\n",
    "print(len('station'))"
   ]
  },
  {
   "cell_type": "code",
   "execution_count": 20,
   "metadata": {
    "scrolled": false
   },
   "outputs": [
    {
     "data": {
      "text/plain": [
       "USC00519397    296\n",
       "USC00519281    287\n",
       "USC00516128    285\n",
       "USC00513117    278\n",
       "USC00519523    274\n",
       "USC00514830    252\n",
       "USC00517948    144\n",
       "Name: station, dtype: int64"
      ]
     },
     "execution_count": 20,
     "metadata": {},
     "output_type": "execute_result"
    }
   ],
   "source": [
    "# What are the most active stations?\n",
    "#alldata_df.sort_values(['station','precipitation'], axis=0, ascending=False)\n",
    "#counts_df = alldata_df.groupby(['date'], ascending=0 )\n",
    "alldata_df['station'].value_counts()"
   ]
  },
  {
   "cell_type": "code",
   "execution_count": 21,
   "metadata": {
    "scrolled": true
   },
   "outputs": [
    {
     "data": {
      "text/plain": [
       "USC00519397    296\n",
       "USC00519281    287\n",
       "USC00516128    285\n",
       "USC00513117    278\n",
       "USC00519523    274\n",
       "USC00514830    252\n",
       "USC00517948    144\n",
       "Name: station, dtype: int64"
      ]
     },
     "execution_count": 21,
     "metadata": {},
     "output_type": "execute_result"
    }
   ],
   "source": [
    "# List the stations and the counts in descending order.\n",
    "alldata_df['station'].value_counts()"
   ]
  },
  {
   "cell_type": "code",
   "execution_count": 22,
   "metadata": {
    "scrolled": true
   },
   "outputs": [
    {
     "name": "stdout",
     "output_type": "stream",
     "text": [
      "TMIN = 60.0\n",
      "TMAX = 87.0\n",
      "TAVG = 74.45270270270271\n"
     ]
    }
   ],
   "source": [
    "# Using the station id from the previous query, calculate the lowest temperature recorded, \n",
    "# highest temperature recorded, and average temperature most active station?\n",
    "easydata = engine.execute('SELECT * FROM measurement WHERE date >= \"2016-10-27\" AND date < \"2017-10-27\" AND station =\"USC00519397\"').fetchall()\n",
    "easydata_df = pd.DataFrame.from_dict(easydata)\n",
    "easydata_df.columns = ['a', 'station','date','precipitation','tobs']\n",
    "\n",
    "temps = easydata_df['tobs'].tolist()\n",
    "tmin = min(temps)\n",
    "tmax = max(temps)\n",
    "tavg = sum(temps)/len(temps)\n",
    "print(f'TMIN = {tmin}')\n",
    "print(f'TMAX = {tmax}')\n",
    "print(f'TAVG = {tavg}')"
   ]
  },
  {
   "cell_type": "code",
   "execution_count": 23,
   "metadata": {},
   "outputs": [],
   "source": [
    "# Choose the station with the highest number of temperature observations.\n",
    "\n",
    "\n",
    "# Query the last 12 months of temperature observation data for this station \n",
    "easydata2 = engine.execute('SELECT * FROM measurement WHERE date >= \"2016-10-27\" AND date < \"2017-10-27\" AND station =\"USC00519397\"').fetchall()\n",
    "#print(easydata2)\n",
    "\n"
   ]
  },
  {
   "cell_type": "code",
   "execution_count": 24,
   "metadata": {},
   "outputs": [
    {
     "name": "stderr",
     "output_type": "stream",
     "text": [
      "C:\\Users\\micha\\Anaconda3\\lib\\site-packages\\matplotlib\\axes\\_axes.py:6571: UserWarning: The 'normed' kwarg is deprecated, and has been replaced by the 'density' kwarg.\n",
      "  warnings.warn(\"The 'normed' kwarg is deprecated, and has been \"\n"
     ]
    },
    {
     "data": {
      "image/png": "[encoded data removed]",
      "text/plain": [
       "<Figure size 432x288 with 1 Axes>"
      ]
     },
     "metadata": {},
     "output_type": "display_data"
    }
   ],
   "source": [
    "#and plot the results as a histogram\n",
    "easydata2_df = pd.DataFrame.from_dict(easydata2)\n",
    "temp = easydata2_df[4].tolist()\n",
    "#print(temp)\n",
    "plt.hist(temp, normed=True, bins=12)\n",
    "plt.ylabel('Frequency')\n",
    "plt.legend('tobs')\n",
    "plt.tight_layout()\n",
    "plt.show()"
   ]
  },
  {
   "cell_type": "code",
   "execution_count": 25,
   "metadata": {},
   "outputs": [],
   "source": [
    "# Write a function called `calc_temps` that will accept start date and end date in the format '%Y-%m-%d' \n",
    "# and return the minimum, average, and maximum temperatures for that range of dates\n",
    "def calc_temps(start_date, end_date):\n",
    "    \n",
    "    \"\"\"TMIN, TAVG, and TMAX for a list of dates.\n",
    "    \n",
    "    Args:\n",
    "        start_date (string): A date string in the format %Y-%m-%d\n",
    "        end_date (string): A date string in the format %Y-%m-%d\n",
    "        \n",
    "    Returns:\n",
    "        TMIN, TAVE, and TMAX\n",
    "    \"\"\"\n",
    "    \n",
    "    return session.query(func.min(Measurement.tobs), func.avg(Measurement.tobs), func.max(Measurement.tobs)).\\\n",
    "        filter(Measurement.date >= start_date).filter(Measurement.date <= end_date).all()\n"
   ]
  },
  {
   "cell_type": "code",
   "execution_count": 26,
   "metadata": {},
   "outputs": [
    {
     "name": "stdout",
     "output_type": "stream",
     "text": [
      "[(58.0, 73.8783858485351, 87.0)]\n"
     ]
    }
   ],
   "source": [
    "# Use your previous function `calc_temps` to calculate the tmin, tavg, and tmax \n",
    "# for your trip using the previous year's data for those same dates.\n",
    "#PICKED 10 DAYS FROM THE START OF THE YEAR\n",
    "\n",
    "\n",
    "print(calc_temps('2016-10-28', '2017-10-28'))"
   ]
  },
  {
   "cell_type": "code",
   "execution_count": 27,
   "metadata": {},
   "outputs": [
    {
     "name": "stdout",
     "output_type": "stream",
     "text": [
      "-7.569999999999993\n",
      "4.430000000000007\n"
     ]
    },
    {
     "data": {
      "image/png": "[encoded data removed]",
      "text/plain": [
       "<Figure size 432x288 with 1 Axes>"
      ]
     },
     "metadata": {},
     "output_type": "display_data"
    }
   ],
   "source": [
    "# Plot the results from your previous query as a bar chart. \n",
    "# Use \"Trip Avg Temp\" as your Title\n",
    "\n",
    "D = 69.57\n",
    "yerr = 62.0 - D\n",
    "print(yerr)\n",
    "yerr1 = 74.0 - D\n",
    "print(yerr1)\n",
    "yerr2 = [yerr,yerr1]\n",
    "plt.title('\"Trip Avg Temp\"')\n",
    "plt.bar(1, D, alpha=0.5, color='magenta')\n",
    "plt.errorbar(1, 69.57, yerr = yerr, lw=2, capsize=5, capthick=2)\n",
    "\n",
    "plt.show()\n",
    "\n",
    "# Use the average temperature for the y value\n",
    "# Use the peak-to-peak (tmax-tmin) value as the y error bar (yerr)\n"
   ]
  },
  {
   "cell_type": "code",
   "execution_count": 28,
   "metadata": {
    "scrolled": true
   },
   "outputs": [
    {
     "data": {
      "text/html": [
       "<div>\n",
       "<style scoped>\n",
       "    .dataframe tbody tr th:only-of-type {\n",
       "        vertical-align: middle;\n",
       "    }\n",
       "\n",
       "    .dataframe tbody tr th {\n",
       "        vertical-align: top;\n",
       "    }\n",
       "\n",
       "    .dataframe thead th {\n",
       "        text-align: right;\n",
       "    }\n",
       "</style>\n",
       "<table border=\"1\" class=\"dataframe\">\n",
       "  <thead>\n",
       "    <tr style=\"text-align: right;\">\n",
       "      <th></th>\n",
       "      <th>date</th>\n",
       "      <th>station</th>\n",
       "      <th>precipitation</th>\n",
       "    </tr>\n",
       "  </thead>\n",
       "  <tbody>\n",
       "    <tr>\n",
       "      <th>0</th>\n",
       "      <td>2016-10-27</td>\n",
       "      <td>USC00519397</td>\n",
       "      <td>0.00</td>\n",
       "    </tr>\n",
       "    <tr>\n",
       "      <th>1</th>\n",
       "      <td>2016-10-28</td>\n",
       "      <td>USC00519397</td>\n",
       "      <td>0.00</td>\n",
       "    </tr>\n",
       "    <tr>\n",
       "      <th>2</th>\n",
       "      <td>2016-10-29</td>\n",
       "      <td>USC00519397</td>\n",
       "      <td>0.00</td>\n",
       "    </tr>\n",
       "    <tr>\n",
       "      <th>3</th>\n",
       "      <td>2016-10-30</td>\n",
       "      <td>USC00519397</td>\n",
       "      <td>0.24</td>\n",
       "    </tr>\n",
       "    <tr>\n",
       "      <th>4</th>\n",
       "      <td>2016-10-31</td>\n",
       "      <td>USC00519397</td>\n",
       "      <td>0.03</td>\n",
       "    </tr>\n",
       "    <tr>\n",
       "      <th>5</th>\n",
       "      <td>2016-11-01</td>\n",
       "      <td>USC00519397</td>\n",
       "      <td>0.00</td>\n",
       "    </tr>\n",
       "    <tr>\n",
       "      <th>6</th>\n",
       "      <td>2016-11-02</td>\n",
       "      <td>USC00519397</td>\n",
       "      <td>0.00</td>\n",
       "    </tr>\n",
       "    <tr>\n",
       "      <th>7</th>\n",
       "      <td>2016-11-03</td>\n",
       "      <td>USC00519397</td>\n",
       "      <td>0.00</td>\n",
       "    </tr>\n",
       "    <tr>\n",
       "      <th>8</th>\n",
       "      <td>2016-11-04</td>\n",
       "      <td>USC00519397</td>\n",
       "      <td>0.00</td>\n",
       "    </tr>\n",
       "    <tr>\n",
       "      <th>9</th>\n",
       "      <td>2016-11-05</td>\n",
       "      <td>USC00519397</td>\n",
       "      <td>0.00</td>\n",
       "    </tr>\n",
       "    <tr>\n",
       "      <th>10</th>\n",
       "      <td>2016-11-06</td>\n",
       "      <td>USC00519397</td>\n",
       "      <td>0.00</td>\n",
       "    </tr>\n",
       "    <tr>\n",
       "      <th>11</th>\n",
       "      <td>2016-11-07</td>\n",
       "      <td>USC00519397</td>\n",
       "      <td>0.00</td>\n",
       "    </tr>\n",
       "    <tr>\n",
       "      <th>12</th>\n",
       "      <td>2016-11-08</td>\n",
       "      <td>USC00519397</td>\n",
       "      <td>0.07</td>\n",
       "    </tr>\n",
       "    <tr>\n",
       "      <th>13</th>\n",
       "      <td>2016-11-09</td>\n",
       "      <td>USC00519397</td>\n",
       "      <td>0.00</td>\n",
       "    </tr>\n",
       "    <tr>\n",
       "      <th>14</th>\n",
       "      <td>2016-11-10</td>\n",
       "      <td>USC00519397</td>\n",
       "      <td>0.00</td>\n",
       "    </tr>\n",
       "    <tr>\n",
       "      <th>15</th>\n",
       "      <td>2016-11-11</td>\n",
       "      <td>USC00519397</td>\n",
       "      <td>0.00</td>\n",
       "    </tr>\n",
       "    <tr>\n",
       "      <th>16</th>\n",
       "      <td>2016-11-12</td>\n",
       "      <td>USC00519397</td>\n",
       "      <td>0.00</td>\n",
       "    </tr>\n",
       "    <tr>\n",
       "      <th>17</th>\n",
       "      <td>2016-11-13</td>\n",
       "      <td>USC00519397</td>\n",
       "      <td>0.00</td>\n",
       "    </tr>\n",
       "    <tr>\n",
       "      <th>18</th>\n",
       "      <td>2016-11-14</td>\n",
       "      <td>USC00519397</td>\n",
       "      <td>0.00</td>\n",
       "    </tr>\n",
       "    <tr>\n",
       "      <th>19</th>\n",
       "      <td>2016-11-15</td>\n",
       "      <td>USC00519397</td>\n",
       "      <td>0.00</td>\n",
       "    </tr>\n",
       "    <tr>\n",
       "      <th>20</th>\n",
       "      <td>2016-11-16</td>\n",
       "      <td>USC00519397</td>\n",
       "      <td>0.00</td>\n",
       "    </tr>\n",
       "    <tr>\n",
       "      <th>21</th>\n",
       "      <td>2016-11-17</td>\n",
       "      <td>USC00519397</td>\n",
       "      <td>0.00</td>\n",
       "    </tr>\n",
       "    <tr>\n",
       "      <th>22</th>\n",
       "      <td>2016-11-18</td>\n",
       "      <td>USC00519397</td>\n",
       "      <td>0.00</td>\n",
       "    </tr>\n",
       "    <tr>\n",
       "      <th>23</th>\n",
       "      <td>2016-11-19</td>\n",
       "      <td>USC00519397</td>\n",
       "      <td>0.03</td>\n",
       "    </tr>\n",
       "    <tr>\n",
       "      <th>24</th>\n",
       "      <td>2016-11-20</td>\n",
       "      <td>USC00519397</td>\n",
       "      <td>0.05</td>\n",
       "    </tr>\n",
       "    <tr>\n",
       "      <th>25</th>\n",
       "      <td>2016-11-21</td>\n",
       "      <td>USC00519397</td>\n",
       "      <td>0.01</td>\n",
       "    </tr>\n",
       "    <tr>\n",
       "      <th>26</th>\n",
       "      <td>2016-11-22</td>\n",
       "      <td>USC00519397</td>\n",
       "      <td>0.13</td>\n",
       "    </tr>\n",
       "    <tr>\n",
       "      <th>27</th>\n",
       "      <td>2016-11-23</td>\n",
       "      <td>USC00519397</td>\n",
       "      <td>0.14</td>\n",
       "    </tr>\n",
       "    <tr>\n",
       "      <th>28</th>\n",
       "      <td>2016-11-24</td>\n",
       "      <td>USC00519397</td>\n",
       "      <td>0.05</td>\n",
       "    </tr>\n",
       "    <tr>\n",
       "      <th>29</th>\n",
       "      <td>2016-11-25</td>\n",
       "      <td>USC00519397</td>\n",
       "      <td>0.05</td>\n",
       "    </tr>\n",
       "    <tr>\n",
       "      <th>...</th>\n",
       "      <td>...</td>\n",
       "      <td>...</td>\n",
       "      <td>...</td>\n",
       "    </tr>\n",
       "    <tr>\n",
       "      <th>1786</th>\n",
       "      <td>2017-07-24</td>\n",
       "      <td>USC00516128</td>\n",
       "      <td>0.84</td>\n",
       "    </tr>\n",
       "    <tr>\n",
       "      <th>1787</th>\n",
       "      <td>2017-07-25</td>\n",
       "      <td>USC00516128</td>\n",
       "      <td>0.30</td>\n",
       "    </tr>\n",
       "    <tr>\n",
       "      <th>1788</th>\n",
       "      <td>2017-07-26</td>\n",
       "      <td>USC00516128</td>\n",
       "      <td>0.30</td>\n",
       "    </tr>\n",
       "    <tr>\n",
       "      <th>1789</th>\n",
       "      <td>2017-07-27</td>\n",
       "      <td>USC00516128</td>\n",
       "      <td>0.00</td>\n",
       "    </tr>\n",
       "    <tr>\n",
       "      <th>1790</th>\n",
       "      <td>2017-07-28</td>\n",
       "      <td>USC00516128</td>\n",
       "      <td>0.40</td>\n",
       "    </tr>\n",
       "    <tr>\n",
       "      <th>1791</th>\n",
       "      <td>2017-07-29</td>\n",
       "      <td>USC00516128</td>\n",
       "      <td>0.30</td>\n",
       "    </tr>\n",
       "    <tr>\n",
       "      <th>1792</th>\n",
       "      <td>2017-07-30</td>\n",
       "      <td>USC00516128</td>\n",
       "      <td>0.30</td>\n",
       "    </tr>\n",
       "    <tr>\n",
       "      <th>1793</th>\n",
       "      <td>2017-07-31</td>\n",
       "      <td>USC00516128</td>\n",
       "      <td>0.00</td>\n",
       "    </tr>\n",
       "    <tr>\n",
       "      <th>1794</th>\n",
       "      <td>2017-08-01</td>\n",
       "      <td>USC00516128</td>\n",
       "      <td>NaN</td>\n",
       "    </tr>\n",
       "    <tr>\n",
       "      <th>1795</th>\n",
       "      <td>2017-08-02</td>\n",
       "      <td>USC00516128</td>\n",
       "      <td>0.25</td>\n",
       "    </tr>\n",
       "    <tr>\n",
       "      <th>1796</th>\n",
       "      <td>2017-08-03</td>\n",
       "      <td>USC00516128</td>\n",
       "      <td>0.06</td>\n",
       "    </tr>\n",
       "    <tr>\n",
       "      <th>1797</th>\n",
       "      <td>2017-08-05</td>\n",
       "      <td>USC00516128</td>\n",
       "      <td>NaN</td>\n",
       "    </tr>\n",
       "    <tr>\n",
       "      <th>1798</th>\n",
       "      <td>2017-08-06</td>\n",
       "      <td>USC00516128</td>\n",
       "      <td>NaN</td>\n",
       "    </tr>\n",
       "    <tr>\n",
       "      <th>1799</th>\n",
       "      <td>2017-08-07</td>\n",
       "      <td>USC00516128</td>\n",
       "      <td>0.05</td>\n",
       "    </tr>\n",
       "    <tr>\n",
       "      <th>1800</th>\n",
       "      <td>2017-08-08</td>\n",
       "      <td>USC00516128</td>\n",
       "      <td>0.34</td>\n",
       "    </tr>\n",
       "    <tr>\n",
       "      <th>1801</th>\n",
       "      <td>2017-08-09</td>\n",
       "      <td>USC00516128</td>\n",
       "      <td>0.15</td>\n",
       "    </tr>\n",
       "    <tr>\n",
       "      <th>1802</th>\n",
       "      <td>2017-08-10</td>\n",
       "      <td>USC00516128</td>\n",
       "      <td>0.07</td>\n",
       "    </tr>\n",
       "    <tr>\n",
       "      <th>1803</th>\n",
       "      <td>2017-08-11</td>\n",
       "      <td>USC00516128</td>\n",
       "      <td>NaN</td>\n",
       "    </tr>\n",
       "    <tr>\n",
       "      <th>1804</th>\n",
       "      <td>2017-08-12</td>\n",
       "      <td>USC00516128</td>\n",
       "      <td>0.14</td>\n",
       "    </tr>\n",
       "    <tr>\n",
       "      <th>1805</th>\n",
       "      <td>2017-08-13</td>\n",
       "      <td>USC00516128</td>\n",
       "      <td>NaN</td>\n",
       "    </tr>\n",
       "    <tr>\n",
       "      <th>1806</th>\n",
       "      <td>2017-08-14</td>\n",
       "      <td>USC00516128</td>\n",
       "      <td>0.22</td>\n",
       "    </tr>\n",
       "    <tr>\n",
       "      <th>1807</th>\n",
       "      <td>2017-08-15</td>\n",
       "      <td>USC00516128</td>\n",
       "      <td>0.42</td>\n",
       "    </tr>\n",
       "    <tr>\n",
       "      <th>1808</th>\n",
       "      <td>2017-08-16</td>\n",
       "      <td>USC00516128</td>\n",
       "      <td>0.42</td>\n",
       "    </tr>\n",
       "    <tr>\n",
       "      <th>1809</th>\n",
       "      <td>2017-08-17</td>\n",
       "      <td>USC00516128</td>\n",
       "      <td>0.13</td>\n",
       "    </tr>\n",
       "    <tr>\n",
       "      <th>1810</th>\n",
       "      <td>2017-08-18</td>\n",
       "      <td>USC00516128</td>\n",
       "      <td>NaN</td>\n",
       "    </tr>\n",
       "    <tr>\n",
       "      <th>1811</th>\n",
       "      <td>2017-08-19</td>\n",
       "      <td>USC00516128</td>\n",
       "      <td>0.09</td>\n",
       "    </tr>\n",
       "    <tr>\n",
       "      <th>1812</th>\n",
       "      <td>2017-08-20</td>\n",
       "      <td>USC00516128</td>\n",
       "      <td>NaN</td>\n",
       "    </tr>\n",
       "    <tr>\n",
       "      <th>1813</th>\n",
       "      <td>2017-08-21</td>\n",
       "      <td>USC00516128</td>\n",
       "      <td>0.56</td>\n",
       "    </tr>\n",
       "    <tr>\n",
       "      <th>1814</th>\n",
       "      <td>2017-08-22</td>\n",
       "      <td>USC00516128</td>\n",
       "      <td>0.50</td>\n",
       "    </tr>\n",
       "    <tr>\n",
       "      <th>1815</th>\n",
       "      <td>2017-08-23</td>\n",
       "      <td>USC00516128</td>\n",
       "      <td>0.45</td>\n",
       "    </tr>\n",
       "  </tbody>\n",
       "</table>\n",
       "<p>1816 rows × 3 columns</p>\n",
       "</div>"
      ],
      "text/plain": [
       "            date      station  precipitation\n",
       "0     2016-10-27  USC00519397           0.00\n",
       "1     2016-10-28  USC00519397           0.00\n",
       "2     2016-10-29  USC00519397           0.00\n",
       "3     2016-10-30  USC00519397           0.24\n",
       "4     2016-10-31  USC00519397           0.03\n",
       "5     2016-11-01  USC00519397           0.00\n",
       "6     2016-11-02  USC00519397           0.00\n",
       "7     2016-11-03  USC00519397           0.00\n",
       "8     2016-11-04  USC00519397           0.00\n",
       "9     2016-11-05  USC00519397           0.00\n",
       "10    2016-11-06  USC00519397           0.00\n",
       "11    2016-11-07  USC00519397           0.00\n",
       "12    2016-11-08  USC00519397           0.07\n",
       "13    2016-11-09  USC00519397           0.00\n",
       "14    2016-11-10  USC00519397           0.00\n",
       "15    2016-11-11  USC00519397           0.00\n",
       "16    2016-11-12  USC00519397           0.00\n",
       "17    2016-11-13  USC00519397           0.00\n",
       "18    2016-11-14  USC00519397           0.00\n",
       "19    2016-11-15  USC00519397           0.00\n",
       "20    2016-11-16  USC00519397           0.00\n",
       "21    2016-11-17  USC00519397           0.00\n",
       "22    2016-11-18  USC00519397           0.00\n",
       "23    2016-11-19  USC00519397           0.03\n",
       "24    2016-11-20  USC00519397           0.05\n",
       "25    2016-11-21  USC00519397           0.01\n",
       "26    2016-11-22  USC00519397           0.13\n",
       "27    2016-11-23  USC00519397           0.14\n",
       "28    2016-11-24  USC00519397           0.05\n",
       "29    2016-11-25  USC00519397           0.05\n",
       "...          ...          ...            ...\n",
       "1786  2017-07-24  USC00516128           0.84\n",
       "1787  2017-07-25  USC00516128           0.30\n",
       "1788  2017-07-26  USC00516128           0.30\n",
       "1789  2017-07-27  USC00516128           0.00\n",
       "1790  2017-07-28  USC00516128           0.40\n",
       "1791  2017-07-29  USC00516128           0.30\n",
       "1792  2017-07-30  USC00516128           0.30\n",
       "1793  2017-07-31  USC00516128           0.00\n",
       "1794  2017-08-01  USC00516128            NaN\n",
       "1795  2017-08-02  USC00516128           0.25\n",
       "1796  2017-08-03  USC00516128           0.06\n",
       "1797  2017-08-05  USC00516128            NaN\n",
       "1798  2017-08-06  USC00516128            NaN\n",
       "1799  2017-08-07  USC00516128           0.05\n",
       "1800  2017-08-08  USC00516128           0.34\n",
       "1801  2017-08-09  USC00516128           0.15\n",
       "1802  2017-08-10  USC00516128           0.07\n",
       "1803  2017-08-11  USC00516128            NaN\n",
       "1804  2017-08-12  USC00516128           0.14\n",
       "1805  2017-08-13  USC00516128            NaN\n",
       "1806  2017-08-14  USC00516128           0.22\n",
       "1807  2017-08-15  USC00516128           0.42\n",
       "1808  2017-08-16  USC00516128           0.42\n",
       "1809  2017-08-17  USC00516128           0.13\n",
       "1810  2017-08-18  USC00516128            NaN\n",
       "1811  2017-08-19  USC00516128           0.09\n",
       "1812  2017-08-20  USC00516128            NaN\n",
       "1813  2017-08-21  USC00516128           0.56\n",
       "1814  2017-08-22  USC00516128           0.50\n",
       "1815  2017-08-23  USC00516128           0.45\n",
       "\n",
       "[1816 rows x 3 columns]"
      ]
     },
     "execution_count": 28,
     "metadata": {},
     "output_type": "execute_result"
    }
   ],
   "source": [
    "# Calculate the rainfall per weather station for your trip dates using the previous year's matching dates.\n",
    "easydata3 = engine.execute('SELECT date, station, prcp FROM measurement WHERE date >= \"2016-10-27\" AND date < \"2017-10-27\"').fetchall()\n",
    "easydata_df3 = pd.DataFrame.from_dict(easydata3)\n",
    "easydata_df3.columns = ['date','station','precipitation']\n",
    "# Sort this in descending order by precipitation amount and list the station, name, latitude, longitude, and elevation\n",
    "easydata_df3\n",
    " \n",
    "# stations = engine.execute('select * from measurement a join station b on a.station=b.station').fetchall()\n",
    "# #print(stations)\n",
    "# station_df = pd.DataFrame.from_dict(stations)\n",
    "# #station_df\n",
    "#same_sporder = session.query(station,measurement).filter(station.station == measurement.station).limit(10).all()\n",
    "\n",
    "# easydata_df3.head()\n",
    "\n",
    "# #easydata_df4 = easydata_df3.join(station_df, axis=0, join='outer', keys='station')\n",
    "# # station_df.columns = ['a', 'station','name','latitude','longitude','elevation']\n",
    "# # station_df\n"
   ]
  },
  {
   "cell_type": "markdown",
   "metadata": {},
   "source": [
    "## Optional Challenge Assignment"
   ]
  },
  {
   "cell_type": "code",
   "execution_count": 29,
   "metadata": {},
   "outputs": [
    {
     "data": {
      "text/plain": [
       "[(62.0, 69.15384615384616, 77.0)]"
      ]
     },
     "execution_count": 29,
     "metadata": {},
     "output_type": "execute_result"
    }
   ],
   "source": [
    "# Create a query that will calculate the daily normals \n",
    "# (i.e. the averages for tmin, tmax, and tavg for all historic data matching a specific month and day)\n",
    "\n",
    "def daily_normals(date):\n",
    "    \"\"\"Daily Normals.\n",
    "    \n",
    "    Args:\n",
    "        date (str): A date string in the format '%m-%d'\n",
    "        \n",
    "    Returns:\n",
    "        A list of tuples containing the daily normals, tmin, tavg, and tmax\n",
    "    \n",
    "    \"\"\"\n",
    "    \n",
    "    sel = [func.min(Measurement.tobs), func.avg(Measurement.tobs), func.max(Measurement.tobs)]\n",
    "    return session.query(*sel).filter(func.strftime(\"%m-%d\", Measurement.date) == date).all()\n",
    "    \n",
    "daily_normals(\"01-01\")"
   ]
  },
  {
   "cell_type": "code",
   "execution_count": 30,
   "metadata": {},
   "outputs": [],
   "source": [
    "# calculate the daily normals for your trip\n",
    "# push each tuple of calculations into a list called `normals`\n",
    "\n",
    "# Set the start and end date of the trip\n",
    "\n",
    "# Use the start and end date to create a range of dates\n",
    "\n",
    "# Stip off the year and save a list of %m-%d strings\n",
    "\n",
    "# Loop through the list of %m-%d strings and calculate the normals for each date\n"
   ]
  },
  {
   "cell_type": "code",
   "execution_count": 31,
   "metadata": {},
   "outputs": [],
   "source": [
    "# Load the previous query results into a Pandas DataFrame and add the `trip_dates` range as the `date` index\n"
   ]
  },
  {
   "cell_type": "code",
   "execution_count": 32,
   "metadata": {},
   "outputs": [],
   "source": [
    "# Plot the daily normals as an area plot with `stacked=False`\n"
   ]
  },
  {
   "cell_type": "code",
   "execution_count": 34,
   "metadata": {},
   "outputs": [
    {
     "name": "stdout",
     "output_type": "stream",
     "text": [
      "[('2016-10-27', 77.0), ('2016-10-28', 78.0), ('2016-10-29', 77.0), ('2016-10-30', 76.0), ('2016-10-31', 77.0), ('2016-11-01', 77.0), ('2016-11-02', 77.0), ('2016-11-03', 77.0), ('2016-11-04', 77.0), ('2016-11-05', 76.0), ('2016-11-06', 75.0), ('2016-11-07', 71.0), ('2016-11-08', 71.0), ('2016-11-09', 71.0), ('2016-11-10', 71.0), ('2016-11-11', 72.0), ('2016-11-12', 71.0), ('2016-11-13', 72.0), ('2016-11-14', 77.0), ('2016-11-15', 77.0), ('2016-11-16', 77.0), ('2016-11-17', 77.0), ('2016-11-18', 77.0), ('2016-11-19', 75.0), ('2016-11-20', 76.0), ('2016-11-21', 76.0), ('2016-11-22', 75.0), ('2016-11-23', 72.0), ('2016-11-24', 74.0), ('2016-11-25', 75.0), ('2016-11-26', 73.0), ('2016-11-27', 76.0), ('2016-11-28', 75.0), ('2016-11-29', 68.0), ('2016-11-30', 75.0), ('2016-12-01', 75.0), ('2016-12-02', 72.0), ('2016-12-03', 69.0), ('2016-12-04', 71.0), ('2016-12-05', 68.0), ('2016-12-06', 67.0), ('2016-12-07', 69.0), ('2016-12-08', 73.0), ('2016-12-09', 70.0), ('2016-12-10', 70.0), ('2016-12-11', 70.0), ('2016-12-12', 66.0), ('2016-12-13', 67.0), ('2016-12-14', 70.0), ('2016-12-15', 66.0), ('2016-12-16', 62.0), ('2016-12-17', 71.0), ('2016-12-18', 73.0), ('2016-12-19', 69.0), ('2016-12-20', 77.0), ('2016-12-21', 74.0), ('2016-12-22', 71.0), ('2016-12-23', 72.0), ('2016-12-24', 74.0), ('2016-12-25', 74.0), ('2016-12-26', 74.0), ('2016-12-27', 74.0), ('2016-12-28', 71.0), ('2016-12-29', 73.0), ('2016-12-30', 69.0), ('2016-12-31', 66.0), ('2017-01-01', 62.0), ('2017-01-02', 66.0), ('2017-01-03', 63.0), ('2017-01-04', 62.0), ('2017-01-05', 63.0), ('2017-01-06', 64.0), ('2017-01-07', 66.0), ('2017-01-08', 60.0), ('2017-01-09', 64.0), ('2017-01-10', 63.0), ('2017-01-11', 78.0), ('2017-01-12', 67.0), ('2017-01-13', 67.0), ('2017-01-14', 65.0), ('2017-01-15', 66.0), ('2017-01-16', 67.0), ('2017-01-17', 66.0), ('2017-01-18', 72.0), ('2017-01-19', 73.0), ('2017-01-20', 71.0), ('2017-01-21', 72.0), ('2017-01-22', 72.0), ('2017-01-23', 72.0), ('2017-01-24', 69.0), ('2017-01-25', 72.0), ('2017-01-26', 71.0), ('2017-01-27', 65.0), ('2017-01-28', 64.0), ('2017-01-29', 67.0), ('2017-01-30', 67.0), ('2017-01-31', 68.0), ('2017-02-01', 70.0), ('2017-02-02', 61.0), ('2017-02-03', 65.0), ('2017-02-04', 72.0), ('2017-02-05', 73.0), ('2017-02-06', 76.0), ('2017-02-07', 64.0), ('2017-02-08', 62.0), ('2017-02-09', 61.0), ('2017-02-10', 71.0), ('2017-02-11', 69.0), ('2017-02-12', 68.0), ('2017-02-13', 74.0), ('2017-02-14', 75.0), ('2017-02-15', 75.0), ('2017-02-16', 71.0), ('2017-02-17', 71.0), ('2017-02-18', 68.0), ('2017-02-19', 69.0), ('2017-02-20', 71.0), ('2017-02-21', 70.0), ('2017-02-22', 72.0), ('2017-02-23', 74.0), ('2017-02-24', 70.0), ('2017-02-25', 64.0), ('2017-02-26', 65.0), ('2017-02-27', 72.0), ('2017-02-28', 74.0), ('2017-03-01', 66.0), ('2017-03-02', 73.0), ('2017-03-03', 69.0), ('2017-03-04', 74.0), ('2017-03-05', 71.0), ('2017-03-06', 69.0), ('2017-03-07', 68.0), ('2017-03-08', 71.0), ('2017-03-09', 72.0), ('2017-03-10', 68.0), ('2017-03-11', 71.0), ('2017-03-12', 74.0), ('2017-03-13', 71.0), ('2017-03-14', 71.0), ('2017-03-15', 71.0), ('2017-03-16', 70.0), ('2017-03-17', 72.0), ('2017-03-18', 69.0), ('2017-03-19', 73.0), ('2017-03-20', 75.0), ('2017-03-21', 75.0), ('2017-03-22', 74.0), ('2017-03-23', 70.0), ('2017-03-24', 73.0), ('2017-03-25', 76.0), ('2017-03-26', 76.0), ('2017-03-27', 75.0), ('2017-03-28', 77.0), ('2017-03-29', 76.0), ('2017-03-30', 77.0), ('2017-03-31', 76.0), ('2017-04-01', 76.0), ('2017-04-02', 76.0), ('2017-04-03', 77.0), ('2017-04-04', 76.0), ('2017-04-05', 78.0), ('2017-04-06', 77.0), ('2017-04-07', 77.0), ('2017-04-08', 77.0), ('2017-04-09', 72.0), ('2017-04-10', 75.0), ('2017-04-11', 79.0), ('2017-04-12', 78.0), ('2017-04-13', 77.0), ('2017-04-14', 75.0), ('2017-04-15', 73.0), ('2017-04-16', 74.0), ('2017-04-17', 74.0), ('2017-04-18', 75.0), ('2017-04-19', 74.0), ('2017-04-20', 78.0), ('2017-04-21', 73.0), ('2017-04-22', 76.0), ('2017-04-23', 77.0), ('2017-04-24', 77.0), ('2017-04-25', 77.0), ('2017-04-26', 77.0), ('2017-04-27', 78.0), ('2017-04-28', 76.0), ('2017-04-29', 72.0), ('2017-04-30', 63.0), ('2017-05-01', 75.0), ('2017-05-02', 78.0), ('2017-05-03', 78.0), ('2017-05-04', 78.0), ('2017-05-05', 79.0), ('2017-05-06', 79.0), ('2017-05-07', 79.0), ('2017-05-08', 77.0), ('2017-05-10', 78.0), ('2017-05-11', 78.0), ('2017-05-12', 79.0), ('2017-05-13', 79.0), ('2017-05-14', 77.0), ('2017-05-15', 78.0), ('2017-05-16', 78.0), ('2017-05-17', 78.0), ('2017-05-18', 73.0), ('2017-05-19', 76.0), ('2017-05-20', 78.0), ('2017-05-21', 76.0), ('2017-05-22', 77.0), ('2017-05-23', 87.0), ('2017-05-24', 77.0), ('2017-05-25', 77.0), ('2017-05-27', 74.0), ('2017-05-28', 76.0), ('2017-05-29', 75.0), ('2017-05-30', 76.0), ('2017-05-31', 79.0), ('2017-06-01', 79.0), ('2017-06-02', 79.0), ('2017-06-03', 79.0), ('2017-06-04', 79.0), ('2017-06-05', 80.0), ('2017-06-06', 79.0), ('2017-06-07', 79.0), ('2017-06-08', 80.0), ('2017-06-09', 80.0), ('2017-06-10', 77.0), ('2017-06-11', 79.0), ('2017-06-12', 83.0), ('2017-06-13', 80.0), ('2017-06-14', 80.0), ('2017-06-15', 78.0), ('2017-06-16', 79.0), ('2017-06-17', 80.0), ('2017-06-18', 77.0), ('2017-06-19', 80.0), ('2017-06-20', 78.0), ('2017-06-21', 79.0), ('2017-06-22', 80.0), ('2017-06-23', 78.0), ('2017-06-24', 80.0), ('2017-06-25', 80.0), ('2017-06-26', 81.0), ('2017-06-27', 80.0), ('2017-06-28', 79.0), ('2017-06-29', 79.0), ('2017-06-30', 75.0), ('2017-07-01', 80.0), ('2017-07-02', 80.0), ('2017-07-03', 78.0), ('2017-07-04', 80.0), ('2017-07-05', 80.0), ('2017-07-06', 81.0), ('2017-07-07', 79.0), ('2017-07-08', 80.0), ('2017-07-09', 80.0), ('2017-07-10', 80.0), ('2017-07-11', 78.0), ('2017-07-12', 81.0), ('2017-07-13', 79.0), ('2017-07-14', 81.0), ('2017-07-15', 80.0), ('2017-07-16', 78.0), ('2017-07-17', 80.0), ('2017-07-18', 80.0), ('2017-07-20', 80.0), ('2017-07-21', 80.0), ('2017-07-22', 81.0), ('2017-07-23', 81.0), ('2017-07-24', 78.0), ('2017-07-25', 80.0), ('2017-07-26', 82.0), ('2017-07-27', 79.0), ('2017-07-28', 81.0), ('2017-07-29', 81.0), ('2017-07-30', 81.0), ('2017-07-31', 80.0), ('2017-08-01', 77.0), ('2017-08-02', 73.0), ('2017-08-03', 79.0), ('2017-08-04', 80.0), ('2017-08-05', 81.0), ('2017-08-06', 80.0), ('2017-08-07', 80.0), ('2017-08-08', 80.0), ('2017-08-09', 80.0), ('2017-08-10', 81.0), ('2017-08-11', 78.0), ('2017-08-12', 80.0), ('2017-08-13', 81.0), ('2017-08-14', 79.0), ('2017-08-15', 78.0), ('2017-08-18', 80.0), ('2017-08-19', 79.0), ('2017-08-20', 81.0), ('2017-08-21', 81.0), ('2017-08-22', 82.0), ('2017-08-23', 81.0), ('2016-10-27', 75.0), ('2016-10-28', 77.0), ('2016-10-29', 77.0), ('2016-10-30', 78.0), ('2016-10-31', 76.0), ('2016-11-01', 77.0), ('2016-11-02', 76.0), ('2016-11-03', 74.0), ('2016-11-04', 76.0), ('2016-11-05', 72.0), ('2016-11-06', 76.0), ('2016-11-07', 69.0), ('2016-11-08', 71.0), ('2016-11-09', 70.0), ('2016-11-10', 69.0), ('2016-11-11', 71.0), ('2016-11-12', 68.0), ('2016-11-13', 72.0), ('2016-11-14', 76.0), ('2016-11-15', 78.0), ('2016-11-16', 76.0), ('2016-11-17', 75.0), ('2016-11-18', 78.0), ('2016-11-19', 73.0), ('2016-11-20', 75.0), ('2016-11-21', 75.0), ('2016-11-22', 76.0), ('2016-11-23', 75.0), ('2016-11-24', 75.0), ('2016-11-25', 76.0), ('2016-11-26', 76.0), ('2016-11-27', 75.0), ('2016-11-28', 75.0), ('2016-11-29', 74.0), ('2016-11-30', 74.0), ('2016-12-01', 73.0), ('2016-12-02', 71.0), ('2016-12-03', 71.0), ('2016-12-04', 69.0), ('2016-12-05', 68.0), ('2016-12-06', 70.0), ('2016-12-07', 71.0), ('2016-12-08', 72.0), ('2016-12-09', 70.0), ('2016-12-10', 71.0), ('2016-12-11', 72.0), ('2016-12-12', 68.0), ('2016-12-13', 68.0), ('2016-12-14', 70.0), ('2016-12-15', 70.0), ('2016-12-16', 63.0), ('2016-12-17', 71.0), ('2016-12-18', 67.0), ('2016-12-19', 69.0), ('2016-12-20', 74.0), ('2016-12-21', 72.0), ('2016-12-22', 70.0), ('2016-12-23', 69.0), ('2016-12-24', 73.0), ('2016-12-25', 74.0), ('2016-12-26', 74.0), ('2016-12-27', 73.0), ('2016-12-28', 71.0), ('2016-12-29', 72.0), ('2016-12-30', 69.0), ('2016-12-31', 71.0), ('2017-01-01', 66.0), ('2017-01-02', 66.0), ('2017-01-03', 65.0), ('2017-01-04', 64.0), ('2017-01-05', 65.0), ('2017-01-06', 70.0), ('2017-01-07', 72.0), ('2017-01-08', 62.0), ('2017-01-09', 65.0), ('2017-01-10', 66.0), ('2017-01-11', 66.0), ('2017-01-12', 67.0), ('2017-01-13', 70.0), ('2017-01-14', 66.0), ('2017-01-15', 67.0), ('2017-01-16', 69.0), ('2017-01-17', 74.0), ('2017-01-18', 73.0), ('2017-01-19', 74.0), ('2017-01-20', 73.0), ('2017-01-21', 72.0), ('2017-01-22', 71.0), ('2017-01-23', 71.0), ('2017-01-24', 71.0), ('2017-01-25', 73.0), ('2017-01-26', 72.0), ('2017-01-27', 63.0), ('2017-01-28', 71.0), ('2017-01-29', 71.0), ('2017-01-30', 69.0), ('2017-01-31', 69.0), ('2017-02-01', 69.0), ('2017-02-02', 63.0), ('2017-02-03', 64.0), ('2017-02-04', 67.0), ('2017-02-05', 75.0), ('2017-02-06', 74.0), ('2017-02-07', 67.0), ('2017-02-08', 67.0), ('2017-02-09', 64.0), ('2017-02-10', 64.0), ('2017-02-11', 65.0), ('2017-02-12', 67.0), ('2017-02-13', 69.0), ('2017-02-14', 72.0), ('2017-02-15', 76.0), ('2017-02-16', 74.0), ('2017-02-17', 67.0), ('2017-02-18', 71.0), ('2017-02-19', 70.0), ('2017-02-20', 71.0), ('2017-02-21', 70.0), ('2017-02-22', 70.0), ('2017-02-23', 70.0), ('2017-02-24', 70.0), ('2017-02-25', 63.0), ('2017-02-26', 63.0), ('2017-02-27', 66.0), ('2017-02-28', 73.0), ('2017-03-01', 72.0), ('2017-03-02', 73.0), ('2017-03-03', 73.0), ('2017-03-04', 76.0), ('2017-03-05', 70.0), ('2017-03-06', 66.0), ('2017-03-07', 65.0), ('2017-03-08', 70.0), ('2017-03-09', 67.0), ('2017-03-10', 68.0), ('2017-03-11', 68.0), ('2017-03-12', 70.0), ('2017-03-13', 70.0), ('2017-03-14', 70.0), ('2017-03-15', 71.0), ('2017-03-16', 69.0), ('2017-03-17', 69.0), ('2017-03-18', 67.0), ('2017-03-19', 72.0), ('2017-03-20', 72.0), ('2017-03-21', 73.0), ('2017-03-22', 74.0), ('2017-03-23', 74.0), ('2017-03-24', 72.0), ('2017-03-25', 72.0), ('2017-03-26', 75.0), ('2017-03-27', 74.0), ('2017-03-28', 75.0), ('2017-03-29', 73.0), ('2017-03-30', 74.0), ('2017-03-31', 74.0), ('2017-04-01', 76.0), ('2017-04-02', 74.0), ('2017-04-03', 73.0), ('2017-04-04', 72.0), ('2017-04-05', 72.0), ('2017-04-06', 73.0), ('2017-04-07', 74.0), ('2017-04-08', 73.0), ('2017-04-09', 69.0), ('2017-04-10', 71.0), ('2017-04-11', 75.0), ('2017-04-12', 74.0), ('2017-04-13', 71.0), ('2017-04-14', 70.0), ('2017-04-15', 70.0), ('2017-04-16', 69.0), ('2017-04-17', 69.0), ('2017-04-18', 70.0), ('2017-04-19', 70.0), ('2017-04-20', 75.0), ('2017-04-21', 70.0), ('2017-04-22', 74.0), ('2017-04-23', 75.0), ('2017-04-24', 76.0), ('2017-04-25', 75.0), ('2017-04-26', 78.0), ('2017-04-27', 73.0), ('2017-04-28', 70.0), ('2017-04-29', 66.0), ('2017-04-30', 61.0), ('2017-05-01', 68.0), ('2017-05-02', 73.0), ('2017-05-03', 74.0), ('2017-05-04', 77.0), ('2017-05-05', 78.0), ('2017-05-06', 75.0), ('2017-05-07', 75.0), ('2017-05-08', 71.0), ('2017-05-09', 74.0), ('2017-05-10', 75.0), ('2017-05-11', 74.0), ('2017-05-12', 74.0), ('2017-05-13', 75.0), ('2017-05-14', 75.0), ('2017-05-15', 75.0), ('2017-05-16', 75.0), ('2017-05-17', 75.0), ('2017-05-18', 70.0), ('2017-05-19', 70.0), ('2017-05-20', 72.0), ('2017-05-21', 72.0), ('2017-05-22', 76.0), ('2017-05-23', 73.0), ('2017-05-24', 75.0), ('2017-05-25', 69.0), ('2017-05-26', 73.0), ('2017-05-27', 69.0), ('2017-05-28', 71.0), ('2017-05-29', 71.0), ('2017-05-30', 74.0), ('2017-05-31', 76.0), ('2017-06-01', 76.0), ('2017-06-02', 76.0), ('2017-06-03', 76.0), ('2017-06-04', 78.0), ('2017-06-05', 76.0), ('2017-06-06', 75.0), ('2017-06-07', 75.0), ('2017-06-08', 76.0), ('2017-06-09', 78.0), ('2017-06-10', 75.0), ('2017-06-11', 73.0), ('2017-06-12', 76.0), ('2017-06-13', 76.0), ('2017-06-14', 76.0), ('2017-06-15', 77.0), ('2017-06-16', 76.0), ('2017-06-17', 77.0), ('2017-06-18', 72.0), ('2017-06-19', 77.0), ('2017-06-20', 75.0), ('2017-06-21', 82.0), ('2017-06-22', 77.0), ('2017-06-23', 76.0), ('2017-06-24', 74.0), ('2017-06-25', 73.0), ('2017-06-26', 77.0), ('2017-06-27', 77.0), ('2017-06-28', 77.0), ('2017-06-29', 76.0), ('2017-06-30', 74.0), ('2017-07-01', 76.0), ('2017-07-02', 77.0), ('2017-07-03', 77.0), ('2017-07-04', 77.0), ('2017-07-05', 77.0), ('2017-07-06', 76.0), ('2017-07-07', 77.0), ('2017-07-08', 76.0), ('2017-07-09', 76.0), ('2017-07-10', 79.0), ('2017-07-11', 76.0), ('2017-07-12', 78.0), ('2017-07-13', 76.0), ('2017-07-14', 80.0), ('2017-07-15', 79.0), ('2017-07-16', 76.0), ('2017-07-17', 75.0), ('2017-07-18', 78.0), ('2017-07-19', 78.0), ('2017-07-20', 78.0), ('2017-07-21', 78.0), ('2017-07-22', 78.0), ('2017-07-23', 75.0), ('2017-07-24', 78.0), ('2017-07-25', 78.0), ('2017-07-26', 78.0), ('2017-07-27', 77.0), ('2017-07-28', 77.0), ('2017-07-29', 78.0), ('2017-07-30', 78.0), ('2017-07-31', 77.0), ('2016-10-27', 78.0), ('2016-10-28', 78.0), ('2016-10-29', 76.0), ('2016-10-30', 78.0), ('2016-10-31', 77.0), ('2016-11-01', 77.0), ('2016-11-02', 78.0), ('2016-11-03', 77.0), ('2016-11-04', 77.0), ('2016-11-05', 77.0), ('2016-11-06', 78.0), ('2016-11-07', 72.0), ('2016-11-08', 73.0), ('2016-11-09', 74.0), ('2016-11-10', 75.0), ('2016-11-11', 77.0), ('2016-11-12', 78.0), ('2016-11-13', 78.0), ('2016-11-14', 79.0), ('2016-11-15', 77.0), ('2016-11-16', 78.0), ('2016-11-17', 77.0), ('2016-11-22', 76.0), ('2016-11-25', 74.0), ('2016-11-26', 78.0), ('2016-11-27', 76.0), ('2016-11-28', 76.0), ('2016-11-29', 75.0), ('2016-11-30', 76.0), ('2016-12-01', 75.0), ('2016-12-02', 77.0), ('2016-12-03', 75.0), ('2016-12-04', 77.0), ('2016-12-05', 76.0), ('2016-12-07', 76.0), ('2016-12-08', 75.0), ('2016-12-09', 72.0), ('2016-12-10', 76.0), ('2016-12-12', 75.0), ('2016-12-13', 72.0), ('2016-12-14', 72.0), ('2016-12-15', 75.0), ('2016-12-16', 69.0), ('2016-12-17', 75.0), ('2016-12-18', 74.0), ('2016-12-19', 78.0), ('2016-12-20', 77.0), ('2016-12-21', 76.0), ('2016-12-22', 72.0), ('2016-12-23', 73.0), ('2016-12-24', 74.0), ('2016-12-26', 74.0), ('2016-12-27', 74.0), ('2016-12-28', 73.0), ('2016-12-29', 73.0), ('2016-12-30', 71.0), ('2016-12-31', 72.0), ('2017-01-01', 74.0), ('2017-01-02', 74.0), ('2017-01-03', 70.0), ('2017-01-04', 71.0), ('2017-01-05', 72.0), ('2017-01-06', 71.0), ('2017-01-07', 71.0), ('2017-01-08', 74.0), ('2017-01-09', 72.0), ('2017-01-10', 72.0), ('2017-01-11', 76.0), ('2017-01-13', 75.0), ('2017-01-14', 77.0), ('2017-01-16', 76.0), ('2017-01-17', 75.0), ('2017-01-18', 75.0), ('2017-01-19', 77.0), ('2017-01-20', 74.0), ('2017-01-21', 73.0), ('2017-01-23', 75.0), ('2017-01-25', 73.0), ('2017-01-26', 74.0), ('2017-01-27', 74.0), ('2017-01-28', 76.0), ('2017-01-30', 71.0), ('2017-01-31', 70.0), ('2017-02-01', 72.0), ('2017-02-02', 72.0), ('2017-02-03', 73.0), ('2017-02-05', 80.0), ('2017-02-06', 77.0), ('2017-02-07', 76.0), ('2017-02-08', 67.0), ('2017-02-09', 71.0), ('2017-02-10', 73.0), ('2017-02-11', 69.0), ('2017-02-12', 76.0), ('2017-02-13', 80.0), ('2017-02-14', 79.0), ('2017-02-15', 76.0), ('2017-02-16', 73.0), ('2017-02-17', 77.0), ('2017-02-20', 72.0), ('2017-02-21', 71.0), ('2017-02-22', 72.0), ('2017-02-23', 75.0), ('2017-02-24', 71.0), ('2017-02-26', 75.0), ('2017-02-27', 71.0), ('2017-02-28', 73.0), ('2017-03-01', 71.0), ('2017-03-03', 73.0), ('2017-03-06', 74.0), ('2017-03-07', 74.0), ('2017-03-08', 74.0), ('2017-03-09', 69.0), ('2017-03-10', 75.0), ('2017-03-12', 80.0), ('2017-03-13', 77.0), ('2017-03-14', 77.0), ('2017-03-16', 77.0), ('2017-03-17', 72.0), ('2017-03-18', 76.0), ('2017-03-20', 77.0), ('2017-03-21', 76.0), ('2017-03-22', 76.0), ('2017-03-23', 78.0), ('2017-03-24', 75.0), ('2017-03-27', 78.0), ('2017-03-28', 78.0), ('2017-03-29', 77.0), ('2017-03-30', 78.0), ('2017-03-31', 77.0), ('2017-04-01', 78.0), ('2017-04-02', 77.0), ('2017-04-03', 77.0), ('2017-04-04', 76.0), ('2017-04-05', 77.0), ('2017-04-06', 76.0), ('2017-04-07', 76.0), ('2017-04-09', 77.0), ('2017-04-10', 79.0), ('2017-04-11', 77.0), ('2017-04-12', 77.0), ('2017-04-13', 77.0), ('2017-04-14', 77.0), ('2017-04-17', 69.0), ('2017-04-18', 76.0), ('2017-04-19', 83.0), ('2017-04-20', 74.0), ('2017-04-21', 70.0), ('2017-04-22', 74.0), ('2017-04-24', 79.0), ('2017-04-25', 77.0), ('2017-04-26', 78.0), ('2017-04-27', 78.0), ('2017-04-28', 77.0), ('2017-04-29', 71.0), ('2017-04-30', 63.0), ('2017-05-01', 78.0), ('2017-05-02', 76.0), ('2017-05-03', 78.0), ('2017-05-04', 77.0), ('2017-05-05', 78.0), ('2017-05-06', 78.0), ('2017-05-08', 73.0), ('2017-05-09', 79.0), ('2017-05-10', 76.0), ('2017-05-12', 78.0), ('2017-05-15', 77.0), ('2017-05-16', 77.0), ('2017-05-17', 78.0), ('2017-05-18', 78.0), ('2017-05-19', 79.0), ('2017-05-20', 79.0), ('2017-05-22', 79.0), ('2017-05-23', 78.0), ('2017-05-24', 76.0), ('2017-05-25', 79.0), ('2017-05-26', 79.0), ('2017-05-27', 79.0), ('2017-05-28', 77.0), ('2017-05-29', 79.0), ('2017-05-30', 81.0), ('2017-05-31', 81.0), ('2017-06-01', 81.0), ('2017-06-02', 78.0), ('2017-06-03', 80.0), ('2017-06-04', 79.0), ('2017-06-05', 81.0), ('2017-06-06', 80.0), ('2017-06-07', 81.0), ('2017-06-08', 79.0), ('2017-06-09', 81.0), ('2017-06-10', 78.0), ('2017-06-11', 79.0), ('2017-06-12', 79.0), ('2017-06-13', 75.0), ('2017-06-14', 79.0), ('2017-06-15', 78.0), ('2017-06-16', 80.0), ('2017-06-17', 78.0), ('2017-06-18', 77.0), ('2017-06-19', 78.0), ('2017-06-20', 79.0), ('2017-06-23', 76.0), ('2017-06-26', 80.0), ('2017-06-29', 76.0), ('2017-06-30', 81.0), ('2017-07-03', 81.0), ('2017-07-05', 81.0), ('2017-07-07', 77.0), ('2017-07-08', 81.0), ('2017-07-09', 82.0), ('2017-07-10', 80.0), ('2017-07-11', 79.0), ('2017-07-12', 81.0), ('2017-07-13', 81.0), ('2017-07-14', 80.0), ('2017-07-15', 82.0), ('2017-07-16', 79.0), ('2017-07-17', 82.0), ('2017-07-18', 82.0), ('2017-07-19', 80.0), ('2017-07-20', 79.0), ('2017-07-21', 79.0), ('2017-07-22', 80.0), ('2017-07-23', 82.0), ('2017-07-24', 79.0), ('2017-07-25', 80.0), ('2017-07-26', 79.0), ('2017-07-27', 80.0), ('2017-07-28', 81.0), ('2017-07-29', 82.0), ('2017-07-31', 81.0), ('2017-08-01', 74.0), ('2017-08-02', 80.0), ('2017-08-03', 81.0), ('2017-08-04', 81.0), ('2017-08-06', 82.0), ('2017-08-07', 81.0), ('2017-08-08', 78.0), ('2017-08-09', 81.0), ('2017-08-10', 81.0), ('2017-08-11', 81.0), ('2017-08-13', 81.0), ('2017-08-14', 81.0), ('2017-08-15', 82.0), ('2017-08-16', 82.0), ('2017-08-17', 78.0), ('2017-08-18', 77.0), ('2017-08-19', 80.0), ('2017-08-20', 80.0), ('2017-08-21', 79.0), ('2017-08-23', 82.0), ('2016-10-27', 77.0), ('2016-10-28', 76.0), ('2016-10-31', 75.0), ('2016-11-04', 77.0), ('2016-11-07', 75.0), ('2016-11-09', 76.0), ('2016-11-14', 79.0), ('2016-11-15', 77.0), ('2016-11-16', 77.0), ('2016-11-17', 77.0), ('2016-11-18', 75.0), ('2016-11-21', 73.0), ('2016-11-22', 76.0), ('2016-11-23', 77.0), ('2016-11-28', 76.0), ('2016-11-29', 74.0), ('2016-11-30', 75.0), ('2016-12-01', 72.0), ('2016-12-02', 70.0), ('2016-12-05', 68.0), ('2016-12-06', 74.0), ('2016-12-07', 71.0), ('2016-12-08', 70.0), ('2016-12-09', 70.0), ('2016-12-12', 70.0), ('2016-12-13', 68.0), ('2016-12-14', 68.0), ('2016-12-15', 68.0), ('2016-12-16', 66.0), ('2016-12-19', 71.0), ('2016-12-20', 76.0), ('2016-12-21', 73.0), ('2016-12-22', 70.0), ('2016-12-23', 68.0), ('2016-12-28', 71.0), ('2016-12-29', 71.0), ('2016-12-30', 68.0), ('2017-01-09', 65.0), ('2017-01-10', 65.0), ('2017-01-11', 67.0), ('2017-01-12', 67.0), ('2017-01-13', 68.0), ('2017-01-17', 70.0), ('2017-01-18', 73.0), ('2017-01-19', 66.0), ('2017-01-20', 70.0), ('2017-01-23', 77.0), ('2017-01-24', 69.0), ('2017-01-25', 69.0), ('2017-01-26', 70.0), ('2017-01-27', 65.0), ('2017-01-30', 68.0), ('2017-01-31', 68.0), ('2017-02-01', 62.0), ('2017-02-02', 70.0), ('2017-02-03', 72.0), ('2017-02-06', 76.0), ('2017-02-07', 67.0), ('2017-02-08', 64.0), ('2017-02-09', 64.0), ('2017-02-10', 64.0), ('2017-02-13', 77.0), ('2017-02-14', 76.0), ('2017-02-15', 73.0), ('2017-02-16', 70.0), ('2017-02-17', 69.0), ('2017-02-21', 71.0), ('2017-02-22', 72.0), ('2017-02-23', 72.0), ('2017-02-24', 68.0), ('2017-02-27', 69.0), ('2017-02-28', 72.0), ('2017-03-01', 66.0), ('2017-03-02', 73.0), ('2017-03-03', 70.0), ('2017-03-06', 67.0), ('2017-03-07', 67.0), ('2017-03-08', 67.0), ('2017-03-09', 68.0), ('2017-03-10', 68.0), ('2017-03-13', 69.0), ('2017-03-14', 73.0), ('2017-03-15', 75.0), ('2017-03-16', 71.0), ('2017-03-17', 72.0), ('2017-03-28', 73.0), ('2017-03-29', 74.0), ('2017-03-30', 77.0), ('2017-03-31', 78.0), ('2017-04-03', 75.0), ('2017-04-04', 75.0), ('2017-04-05', 73.0), ('2017-04-06', 73.0), ('2017-04-07', 76.0), ('2017-04-10', 75.0), ('2017-04-11', 76.0), ('2017-04-12', 74.0), ('2017-04-13', 76.0), ('2017-04-17', 72.0), ('2017-04-18', 75.0), ('2017-04-19', 76.0), ('2017-04-20', 75.0), ('2017-04-21', 74.0), ('2017-04-24', 78.0), ('2017-04-25', 78.0), ('2017-04-27', 78.0), ('2017-04-28', 76.0), ('2017-06-02', 79.0), ('2017-06-05', 78.0), ('2017-06-06', 80.0), ('2017-06-07', 80.0), ('2017-06-08', 78.0), ('2017-06-09', 80.0), ('2017-06-13', 81.0), ('2017-06-14', 78.0), ('2017-06-15', 77.0), ('2017-06-16', 78.0), ('2017-06-19', 78.0), ('2017-06-20', 77.0), ('2017-06-21', 76.0), ('2017-06-22', 81.0), ('2017-06-23', 76.0), ('2017-06-26', 82.0), ('2017-06-27', 80.0), ('2017-06-28', 80.0), ('2017-06-29', 79.0), ('2017-06-30', 74.0), ('2017-07-03', 87.0), ('2017-07-05', 80.0), ('2017-07-06', 79.0), ('2017-07-07', 79.0), ('2017-07-10', 78.0), ('2017-07-11', 81.0), ('2017-07-12', 80.0), ('2017-07-13', 81.0), ('2017-07-18', 78.0), ('2017-07-19', 81.0), ('2017-07-20', 80.0), ('2017-07-21', 81.0), ('2017-07-25', 81.0), ('2017-07-26', 78.0), ('2017-07-27', 79.0), ('2017-07-28', 80.0), ('2017-07-31', 81.0), ('2016-10-27', 78.0), ('2016-10-28', 78.0), ('2016-10-29', 78.0), ('2016-10-30', 79.0), ('2016-10-31', 78.0), ('2016-11-01', 79.0), ('2016-11-02', 76.0), ('2016-11-03', 77.0), ('2016-11-04', 76.0), ('2016-11-05', 78.0), ('2016-11-06', 78.0), ('2016-11-07', 76.0), ('2016-11-08', 77.0), ('2016-11-09', 75.0), ('2016-11-10', 72.0), ('2016-11-11', 73.0), ('2016-11-12', 79.0), ('2016-11-13', 79.0), ('2016-11-14', 78.0), ('2016-11-15', 77.0), ('2016-11-16', 77.0), ('2016-11-17', 77.0), ('2016-11-18', 77.0), ('2016-11-19', 76.0), ('2016-11-20', 80.0), ('2016-11-21', 75.0), ('2016-11-22', 76.0), ('2016-11-23', 75.0), ('2016-11-24', 75.0), ('2016-11-25', 76.0), ('2016-11-26', 78.0), ('2016-11-27', 78.0), ('2016-11-28', 77.0), ('2016-11-29', 76.0), ('2016-11-30', 76.0), ('2016-12-01', 76.0), ('2016-12-02', 75.0), ('2016-12-03', 75.0), ('2016-12-04', 75.0), ('2016-12-05', 70.0), ('2016-12-06', 70.0), ('2016-12-07', 74.0), ('2016-12-08', 73.0), ('2016-12-10', 72.0), ('2016-12-11', 78.0), ('2016-12-12', 67.0), ('2016-12-13', 69.0), ('2016-12-14', 71.0), ('2016-12-15', 74.0), ('2016-12-16', 63.0), ('2016-12-17', 76.0), ('2016-12-18', 76.0), ('2016-12-19', 71.0), ('2016-12-20', 76.0), ('2016-12-21', 77.0), ('2016-12-22', 73.0), ('2016-12-23', 71.0), ('2016-12-24', 78.0), ('2016-12-25', 78.0), ('2016-12-26', 75.0), ('2016-12-27', 75.0), ('2016-12-28', 72.0), ('2016-12-29', 77.0), ('2016-12-30', 72.0), ('2017-01-01', 74.0), ('2017-01-03', 73.0), ('2017-01-04', 73.0), ('2017-01-05', 71.0), ('2017-01-06', 74.0), ('2017-01-07', 72.0), ('2017-01-08', 74.0), ('2017-01-09', 77.0), ('2017-01-10', 75.0), ('2017-01-12', 81.0), ('2017-01-15', 78.0), ('2017-01-16', 80.0), ('2017-01-18', 75.0), ('2017-01-19', 78.0), ('2017-01-20', 73.0), ('2017-01-21', 74.0), ('2017-01-22', 74.0), ('2017-01-23', 74.0), ('2017-01-24', 74.0), ('2017-01-25', 72.0), ('2017-01-26', 74.0), ('2017-01-27', 74.0), ('2017-01-29', 73.0), ('2017-01-30', 70.0), ('2017-01-31', 70.0), ('2017-02-01', 70.0), ('2017-02-02', 64.0), ('2017-02-03', 62.0), ('2017-02-04', 76.0), ('2017-02-05', 77.0), ('2017-02-06', 76.0), ('2017-02-07', 72.0), ('2017-02-08', 74.0), ('2017-02-09', 60.0), ('2017-02-10', 74.0), ('2017-02-11', 70.0), ('2017-02-12', 73.0), ('2017-02-13', 78.0), ('2017-02-15', 76.0), ('2017-02-16', 72.0), ('2017-02-17', 75.0), ('2017-02-18', 67.0), ('2017-02-20', 71.0), ('2017-02-22', 72.0), ('2017-02-23', 73.0), ('2017-02-24', 70.0), ('2017-02-26', 67.0), ('2017-02-27', 77.0), ('2017-02-28', 73.0), ('2017-03-01', 73.0), ('2017-03-02', 75.0), ('2017-03-03', 74.0), ('2017-03-04', 77.0), ('2017-03-06', 69.0), ('2017-03-09', 70.0), ('2017-03-10', 69.0), ('2017-03-11', 81.0), ('2017-03-12', 74.0), ('2017-03-13', 69.0), ('2017-03-14', 74.0), ('2017-03-15', 71.0), ('2017-03-16', 69.0), ('2017-03-17', 70.0), ('2017-03-18', 74.0), ('2017-03-19', 74.0), ('2017-03-20', 75.0), ('2017-03-21', 75.0), ('2017-03-22', 75.0), ('2017-03-23', 75.0), ('2017-03-24', 76.0), ('2017-03-25', 75.0), ('2017-03-26', 80.0), ('2017-03-27', 76.0), ('2017-03-28', 76.0), ('2017-03-29', 74.0), ('2017-03-30', 78.0), ('2017-03-31', 75.0), ('2017-04-01', 80.0), ('2017-04-02', 79.0), ('2017-04-03', 76.0), ('2017-04-04', 78.0), ('2017-04-05', 77.0), ('2017-04-06', 76.0), ('2017-04-07', 78.0), ('2017-04-09', 74.0), ('2017-04-10', 75.0), ('2017-04-11', 82.0), ('2017-04-12', 80.0), ('2017-04-13', 79.0), ('2017-04-14', 75.0), ('2017-04-15', 79.0), ('2017-04-16', 74.0), ('2017-04-17', 71.0), ('2017-04-18', 76.0), ('2017-04-19', 74.0), ('2017-04-20', 76.0), ('2017-04-21', 70.0), ('2017-04-24', 80.0), ('2017-04-25', 76.0), ('2017-04-26', 81.0), ('2017-04-27', 76.0), ('2017-04-28', 76.0), ('2017-04-29', 70.0), ('2017-04-30', 64.0), ('2017-05-01', 73.0), ('2017-05-02', 78.0), ('2017-05-03', 78.0), ('2017-05-04', 77.0), ('2017-05-05', 79.0), ('2017-05-06', 80.0), ('2017-05-07', 78.0), ('2017-05-08', 80.0), ('2017-05-09', 75.0), ('2017-05-10', 76.0), ('2017-05-11', 78.0), ('2017-05-12', 77.0), ('2017-05-13', 76.0), ('2017-05-14', 78.0), ('2017-05-15', 77.0), ('2017-05-16', 76.0), ('2017-05-17', 77.0), ('2017-05-18', 71.0), ('2017-05-20', 79.0), ('2017-05-21', 80.0), ('2017-05-22', 76.0), ('2017-05-23', 76.0), ('2017-05-24', 76.0), ('2017-05-25', 75.0), ('2017-05-26', 77.0), ('2017-05-27', 79.0), ('2017-05-28', 82.0), ('2017-05-29', 80.0), ('2017-05-30', 78.0), ('2017-05-31', 79.0), ('2017-06-01', 79.0), ('2017-06-02', 81.0), ('2017-06-03', 79.0), ('2017-06-04', 81.0), ('2017-06-05', 78.0), ('2017-06-06', 78.0), ('2017-06-07', 78.0), ('2017-06-08', 77.0), ('2017-06-09', 78.0), ('2017-06-10', 75.0), ('2017-06-11', 81.0), ('2017-06-12', 80.0), ('2017-06-13', 77.0), ('2017-06-14', 80.0), ('2017-06-15', 78.0), ('2017-06-16', 80.0), ('2017-06-17', 77.0), ('2017-06-18', 78.0), ('2017-06-19', 78.0), ('2017-06-21', 80.0), ('2017-06-22', 80.0), ('2017-06-23', 79.0), ('2017-06-24', 82.0), ('2017-06-25', 80.0), ('2017-06-26', 81.0), ('2017-06-27', 81.0), ('2017-06-28', 79.0), ('2017-06-29', 78.0), ('2017-06-30', 75.0), ('2017-07-02', 80.0), ('2017-07-03', 81.0), ('2017-07-05', 80.0), ('2017-07-06', 79.0), ('2017-07-07', 79.0), ('2017-07-08', 77.0), ('2017-07-09', 82.0), ('2017-07-10', 82.0), ('2017-07-11', 79.0), ('2017-07-12', 82.0), ('2017-07-13', 79.0), ('2017-07-14', 80.0), ('2017-07-15', 82.0), ('2017-07-16', 82.0), ('2017-07-17', 82.0), ('2017-07-18', 83.0), ('2017-07-19', 80.0), ('2017-07-20', 80.0), ('2017-07-21', 80.0), ('2017-07-22', 78.0), ('2017-07-24', 79.0), ('2017-07-25', 80.0), ('2017-07-26', 84.0), ('2017-07-27', 80.0), ('2017-07-28', 81.0), ('2017-07-29', 83.0), ('2017-07-30', 84.0), ('2017-07-31', 82.0), ('2017-08-01', 75.0), ('2017-08-02', 83.0), ('2017-08-03', 80.0), ('2017-08-04', 82.0), ('2017-08-06', 83.0), ('2017-08-07', 83.0), ('2017-08-08', 82.0), ('2017-08-10', 80.0), ('2017-08-11', 81.0), ('2017-08-12', 83.0), ('2017-08-13', 84.0), ('2017-08-14', 75.0), ('2017-08-15', 79.0), ('2017-08-16', 79.0), ('2017-08-17', 83.0), ('2017-08-19', 85.0), ('2017-08-21', 82.0), ('2017-08-22', 82.0), ('2017-08-23', 82.0), ('2016-10-27', 76.0), ('2016-10-28', 74.0), ('2016-10-29', 77.0), ('2016-10-30', 76.0), ('2016-10-31', 76.0), ('2016-11-01', 74.0), ('2016-11-02', 75.0), ('2016-11-03', 75.0), ('2016-11-04', 75.0), ('2016-11-05', 75.0), ('2016-11-06', 71.0), ('2016-11-07', 63.0), ('2016-11-08', 70.0), ('2016-11-09', 68.0), ('2016-11-10', 67.0), ('2016-11-11', 77.0), ('2016-11-12', 74.0), ('2016-11-13', 77.0), ('2016-11-14', 76.0), ('2016-11-15', 76.0), ('2016-11-16', 75.0), ('2016-11-17', 76.0), ('2016-11-18', 75.0), ('2016-11-19', 73.0), ('2016-11-20', 75.0), ('2016-11-21', 73.0), ('2016-11-22', 75.0), ('2016-11-23', 74.0), ('2016-11-24', 75.0), ('2016-11-25', 74.0), ('2016-11-26', 75.0), ('2016-11-27', 73.0), ('2016-11-28', 75.0), ('2016-11-29', 73.0), ('2016-11-30', 73.0), ('2016-12-01', 74.0), ('2016-12-02', 70.0), ('2016-12-03', 72.0), ('2016-12-04', 70.0), ('2016-12-05', 67.0), ('2016-12-06', 67.0), ('2016-12-07', 69.0), ('2016-12-08', 70.0), ('2016-12-09', 68.0), ('2016-12-10', 69.0), ('2016-12-11', 69.0), ('2016-12-12', 66.0), ('2016-12-13', 65.0), ('2016-12-14', 68.0), ('2016-12-15', 62.0), ('2016-12-16', 75.0), ('2016-12-17', 70.0), ('2016-12-18', 69.0), ('2016-12-19', 76.0), ('2016-12-20', 76.0), ('2016-12-21', 74.0), ('2016-12-22', 73.0), ('2016-12-23', 71.0), ('2016-12-24', 74.0), ('2016-12-25', 74.0), ('2016-12-26', 72.0), ('2016-12-27', 71.0), ('2016-12-28', 72.0), ('2016-12-29', 74.0), ('2016-12-30', 69.0), ('2016-12-31', 67.0), ('2017-01-01', 72.0), ('2017-01-02', 70.0), ('2017-01-03', 64.0), ('2017-01-04', 63.0), ('2017-01-05', 63.0), ('2017-01-06', 62.0), ('2017-01-07', 70.0), ('2017-01-08', 70.0), ('2017-01-09', 62.0), ('2017-01-10', 62.0), ('2017-01-11', 63.0), ('2017-01-12', 65.0), ('2017-01-13', 69.0), ('2017-01-14', 77.0), ('2017-01-15', 70.0), ('2017-01-16', 74.0), ('2017-01-17', 69.0), ('2017-01-18', 72.0), ('2017-01-19', 71.0), ('2017-01-20', 69.0), ('2017-01-21', 71.0), ('2017-01-22', 71.0), ('2017-01-23', 72.0), ('2017-01-24', 72.0), ('2017-01-25', 69.0), ('2017-01-26', 70.0), ('2017-01-27', 66.0), ('2017-01-28', 65.0), ('2017-01-29', 69.0), ('2017-01-30', 68.0), ('2017-01-31', 68.0), ('2017-02-01', 68.0), ('2017-02-02', 59.0), ('2017-02-03', 60.0), ('2017-02-04', 70.0), ('2017-02-05', 73.0), ('2017-02-06', 75.0), ('2017-02-07', 64.0), ('2017-02-08', 59.0), ('2017-02-09', 59.0), ('2017-02-10', 62.0), ('2017-02-11', 68.0), ('2017-02-12', 70.0), ('2017-02-13', 73.0), ('2017-02-14', 79.0), ('2017-02-15', 75.0), ('2017-02-16', 65.0), ('2017-02-17', 70.0), ('2017-02-18', 74.0), ('2017-02-19', 70.0), ('2017-02-20', 70.0), ('2017-02-21', 71.0), ('2017-02-22', 71.0), ('2017-02-23', 71.0), ('2017-02-24', 69.0), ('2017-02-25', 61.0), ('2017-02-26', 67.0), ('2017-02-27', 65.0), ('2017-02-28', 72.0), ('2017-03-01', 71.0), ('2017-03-02', 73.0), ('2017-03-03', 72.0), ('2017-03-04', 77.0), ('2017-03-05', 73.0), ('2017-03-06', 67.0), ('2017-03-07', 62.0), ('2017-03-08', 64.0), ('2017-03-09', 67.0), ('2017-03-10', 66.0), ('2017-03-11', 81.0), ('2017-03-12', 69.0), ('2017-03-13', 66.0), ('2017-03-14', 67.0), ('2017-03-15', 69.0), ('2017-03-16', 66.0), ('2017-03-17', 68.0), ('2017-03-18', 65.0), ('2017-03-19', 74.0), ('2017-03-20', 69.0), ('2017-03-21', 72.0), ('2017-03-22', 73.0), ('2017-03-23', 72.0), ('2017-03-24', 71.0), ('2017-03-25', 76.0), ('2017-03-26', 77.0), ('2017-03-27', 76.0), ('2017-03-28', 74.0), ('2017-03-29', 68.0), ('2017-03-30', 73.0), ('2017-03-31', 71.0), ('2017-04-01', 74.0), ('2017-04-02', 75.0), ('2017-04-03', 70.0), ('2017-04-04', 67.0), ('2017-04-05', 71.0), ('2017-04-06', 67.0), ('2017-04-07', 74.0), ('2017-04-08', 77.0), ('2017-04-09', 78.0), ('2017-04-10', 67.0), ('2017-04-11', 70.0), ('2017-04-12', 69.0), ('2017-04-13', 69.0), ('2017-04-14', 74.0), ('2017-04-15', 78.0), ('2017-04-16', 71.0), ('2017-04-17', 67.0), ('2017-04-18', 68.0), ('2017-04-19', 67.0), ('2017-04-20', 76.0), ('2017-04-21', 69.0), ('2017-04-22', 72.0), ('2017-04-23', 76.0), ('2017-04-24', 68.0), ('2017-04-25', 72.0), ('2017-04-26', 74.0), ('2017-04-27', 70.0), ('2017-04-28', 67.0), ('2017-04-29', 72.0), ('2017-04-30', 60.0), ('2017-05-01', 65.0), ('2017-05-02', 75.0), ('2017-05-03', 70.0), ('2017-05-04', 75.0), ('2017-05-05', 70.0), ('2017-05-06', 79.0), ('2017-05-07', 75.0), ('2017-05-08', 70.0), ('2017-05-09', 67.0), ('2017-05-10', 74.0), ('2017-05-11', 70.0), ('2017-05-12', 75.0), ('2017-05-13', 76.0), ('2017-05-14', 77.0), ('2017-05-15', 74.0), ('2017-05-16', 74.0), ('2017-05-17', 74.0), ('2017-05-18', 69.0), ('2017-05-19', 68.0), ('2017-05-20', 76.0), ('2017-05-21', 74.0), ('2017-05-22', 71.0), ('2017-05-23', 71.0), ('2017-05-24', 74.0), ('2017-05-25', 74.0), ('2017-05-26', 74.0), ('2017-05-27', 74.0), ('2017-05-28', 80.0), ('2017-05-29', 74.0), ('2017-05-30', 72.0), ('2017-05-31', 75.0), ('2017-06-01', 80.0), ('2017-06-02', 76.0), ('2017-06-03', 76.0), ('2017-06-04', 77.0), ('2017-06-05', 75.0), ('2017-06-06', 75.0), ('2017-06-07', 75.0), ('2017-06-08', 75.0), ('2017-06-09', 72.0), ('2017-06-10', 74.0), ('2017-06-11', 74.0), ('2017-06-12', 74.0), ('2017-06-13', 76.0), ('2017-06-14', 74.0), ('2017-06-15', 75.0), ('2017-06-16', 73.0), ('2017-06-17', 79.0), ('2017-06-18', 75.0), ('2017-06-19', 72.0), ('2017-06-20', 72.0), ('2017-06-21', 74.0), ('2017-06-22', 72.0), ('2017-06-23', 72.0), ('2017-06-24', 77.0), ('2017-06-25', 71.0), ('2017-06-26', 73.0), ('2017-06-27', 76.0), ('2017-06-28', 77.0), ('2017-06-29', 76.0), ('2017-06-30', 76.0), ('2017-07-01', 79.0), ('2017-07-02', 81.0), ('2017-07-03', 76.0), ('2017-07-04', 78.0), ('2017-07-05', 77.0), ('2017-07-06', 74.0), ('2017-07-07', 75.0), ('2017-07-08', 78.0), ('2017-07-09', 78.0), ('2017-07-10', 69.0), ('2017-07-11', 72.0), ('2017-07-12', 74.0), ('2017-07-13', 74.0), ('2017-07-14', 76.0), ('2017-07-15', 80.0), ('2017-07-16', 80.0), ('2017-07-17', 76.0), ('2017-07-18', 76.0), ('2017-07-19', 76.0), ('2017-07-20', 77.0), ('2017-07-21', 77.0), ('2017-07-22', 77.0), ('2017-07-23', 82.0), ('2017-07-24', 75.0), ('2017-07-25', 77.0), ('2017-07-26', 75.0), ('2017-07-27', 76.0), ('2017-07-28', 81.0), ('2017-07-29', 82.0), ('2017-07-30', 81.0), ('2017-07-31', 76.0), ('2017-08-04', 77.0), ('2017-08-05', 82.0), ('2017-08-06', 83.0), ('2017-08-13', 77.0), ('2017-08-14', 77.0), ('2017-08-15', 77.0), ('2017-08-16', 76.0), ('2017-08-17', 76.0), ('2017-08-18', 79.0), ('2016-10-27', 71.0), ('2016-10-28', 68.0), ('2016-10-29', 71.0), ('2016-10-30', 76.0), ('2016-10-31', 69.0), ('2016-11-01', 73.0), ('2016-11-02', 76.0), ('2016-11-03', 74.0), ('2016-11-04', 74.0), ('2016-11-05', 69.0), ('2016-11-06', 77.0), ('2016-11-07', 71.0), ('2016-11-08', 71.0), ('2016-11-09', 71.0), ('2016-11-10', 71.0), ('2016-11-11', 67.0), ('2016-11-12', 73.0), ('2016-11-13', 72.0), ('2016-11-14', 74.0), ('2016-11-15', 72.0), ('2016-11-16', 72.0), ('2016-11-17', 75.0), ('2016-11-20', 74.0), ('2016-11-21', 71.0), ('2016-11-22', 73.0), ('2016-11-23', 69.0), ('2016-11-24', 69.0), ('2016-11-25', 69.0), ('2016-11-26', 70.0), ('2016-11-27', 69.0), ('2016-11-28', 71.0), ('2016-11-29', 67.0), ('2016-11-30', 72.0), ('2016-12-01', 71.0), ('2016-12-02', 71.0), ('2016-12-03', 67.0), ('2016-12-04', 76.0), ('2016-12-05', 67.0), ('2016-12-06', 67.0), ('2016-12-07', 68.0), ('2016-12-08', 71.0), ('2016-12-09', 68.0), ('2016-12-10', 68.0), ('2016-12-11', 69.0), ('2016-12-12', 65.0), ('2016-12-13', 70.0), ('2016-12-14', 69.0), ('2016-12-15', 64.0), ('2016-12-16', 60.0), ('2016-12-18', 67.0), ('2016-12-19', 72.0), ('2016-12-20', 73.0), ('2016-12-21', 70.0), ('2016-12-22', 68.0), ('2016-12-23', 69.0), ('2016-12-24', 69.0), ('2016-12-25', 69.0), ('2016-12-26', 71.0), ('2016-12-27', 71.0), ('2016-12-28', 71.0), ('2016-12-29', 69.0), ('2016-12-30', 65.0), ('2016-12-31', 65.0), ('2017-01-01', 68.0), ('2017-01-02', 70.0), ('2017-01-03', 71.0), ('2017-01-04', 70.0), ('2017-01-05', 71.0), ('2017-01-06', 65.0), ('2017-01-07', 70.0), ('2017-01-08', 66.0), ('2017-01-09', 69.0), ('2017-01-10', 64.0), ('2017-01-11', 66.0), ('2017-01-12', 68.0), ('2017-01-13', 67.0), ('2017-01-14', 70.0), ('2017-01-15', 68.0), ('2017-01-16', 68.0), ('2017-01-17', 69.0), ('2017-01-18', 73.0), ('2017-01-19', 71.0), ('2017-01-20', 67.0), ('2017-01-21', 67.0), ('2017-01-22', 68.0), ('2017-01-23', 70.0), ('2017-01-24', 67.0), ('2017-01-25', 69.0), ('2017-01-26', 67.0), ('2017-01-27', 69.0), ('2017-01-28', 64.0), ('2017-01-29', 67.0), ('2017-01-30', 66.0), ('2017-01-31', 65.0), ('2017-02-01', 65.0), ('2017-02-02', 60.0), ('2017-02-04', 66.0), ('2017-02-05', 69.0), ('2017-02-06', 73.0), ('2017-02-07', 68.0), ('2017-02-08', 68.0), ('2017-02-09', 64.0), ('2017-02-10', 70.0), ('2017-02-11', 66.0), ('2017-02-12', 65.0), ('2017-02-13', 68.0), ('2017-02-14', 79.0), ('2017-02-15', 71.0), ('2017-02-16', 72.0), ('2017-02-18', 72.0), ('2017-02-19', 68.0), ('2017-02-20', 69.0), ('2017-02-21', 65.0), ('2017-02-22', 69.0), ('2017-02-23', 72.0), ('2017-02-24', 68.0), ('2017-02-25', 66.0), ('2017-02-26', 64.0), ('2017-02-27', 69.0), ('2017-02-28', 69.0), ('2017-03-01', 64.0), ('2017-03-02', 72.0), ('2017-03-03', 78.0), ('2017-03-04', 70.0), ('2017-03-05', 68.0), ('2017-03-06', 76.0), ('2017-03-07', 72.0), ('2017-03-08', 68.0), ('2017-03-09', 72.0), ('2017-03-10', 65.0), ('2017-03-11', 82.0), ('2017-03-13', 69.0), ('2017-03-14', 75.0), ('2017-03-15', 76.0), ('2017-03-16', 77.0), ('2017-03-18', 70.0), ('2017-03-19', 74.0), ('2017-03-20', 74.0), ('2017-03-21', 72.0), ('2017-03-22', 72.0), ('2017-03-23', 70.0), ('2017-03-24', 70.0), ('2017-03-25', 72.0), ('2017-03-26', 72.0), ('2017-03-27', 74.0), ('2017-03-28', 69.0), ('2017-03-29', 69.0), ('2017-03-31', 76.0), ('2017-04-01', 69.0), ('2017-04-02', 71.0), ('2017-04-03', 73.0), ('2017-04-04', 75.0), ('2017-04-05', 69.0), ('2017-04-06', 72.0), ('2017-04-08', 76.0), ('2017-04-09', 70.0), ('2017-04-10', 72.0), ('2017-04-11', 71.0), ('2017-04-12', 70.0), ('2017-04-13', 73.0), ('2017-04-14', 72.0), ('2017-04-15', 70.0), ('2017-04-16', 71.0), ('2017-04-17', 69.0), ('2017-04-18', 71.0), ('2017-04-19', 71.0), ('2017-04-20', 69.0), ('2017-04-21', 70.0), ('2017-04-22', 73.0), ('2017-04-23', 70.0), ('2017-04-24', 75.0), ('2017-04-25', 74.0), ('2017-04-26', 77.0), ('2017-04-27', 76.0), ('2017-04-28', 71.0), ('2017-04-29', 68.0), ('2017-04-30', 58.0), ('2017-05-01', 73.0), ('2017-05-02', 79.0), ('2017-05-04', 74.0), ('2017-05-05', 74.0), ('2017-05-06', 74.0), ('2017-05-07', 70.0), ('2017-05-08', 66.0), ('2017-05-09', 72.0), ('2017-05-10', 72.0), ('2017-05-11', 78.0), ('2017-05-12', 70.0), ('2017-05-13', 71.0), ('2017-05-14', 70.0), ('2017-05-15', 72.0), ('2017-05-16', 71.0), ('2017-05-17', 71.0), ('2017-05-18', 69.0), ('2017-05-20', 70.0), ('2017-05-21', 69.0), ('2017-05-22', 72.0), ('2017-05-23', 69.0), ('2017-05-24', 70.0), ('2017-05-25', 75.0), ('2017-05-26', 72.0), ('2017-05-27', 72.0), ('2017-05-28', 73.0), ('2017-05-30', 72.0), ('2017-06-01', 74.0), ('2017-06-03', 74.0), ('2017-06-04', 77.0), ('2017-06-05', 74.0), ('2017-06-06', 74.0), ('2017-06-07', 79.0), ('2017-06-08', 75.0), ('2017-06-10', 72.0), ('2017-06-11', 76.0), ('2017-06-12', 74.0), ('2017-06-13', 73.0), ('2017-06-14', 74.0), ('2017-06-15', 77.0), ('2017-06-16', 74.0), ('2017-06-17', 72.0), ('2017-06-18', 77.0), ('2017-06-19', 76.0), ('2017-06-20', 74.0), ('2017-06-21', 75.0), ('2017-06-22', 76.0), ('2017-06-23', 71.0), ('2017-06-24', 73.0), ('2017-06-25', 79.0), ('2017-06-26', 79.0), ('2017-06-27', 74.0), ('2017-06-28', 74.0), ('2017-06-29', 76.0), ('2017-06-30', 75.0), ('2017-07-01', 74.0), ('2017-07-02', 78.0), ('2017-07-03', 77.0), ('2017-07-04', 77.0), ('2017-07-05', 75.0), ('2017-07-06', 74.0), ('2017-07-07', 74.0), ('2017-07-08', 71.0), ('2017-07-09', 78.0), ('2017-07-10', 77.0), ('2017-07-11', 74.0), ('2017-07-12', 72.0), ('2017-07-13', 77.0), ('2017-07-14', 76.0), ('2017-07-15', 78.0), ('2017-07-16', 75.0), ('2017-07-17', 72.0), ('2017-07-18', 77.0), ('2017-07-19', 74.0), ('2017-07-20', 75.0), ('2017-07-21', 72.0), ('2017-07-22', 72.0), ('2017-07-23', 78.0), ('2017-07-24', 77.0), ('2017-07-25', 79.0), ('2017-07-26', 73.0), ('2017-07-27', 75.0), ('2017-07-28', 73.0), ('2017-07-29', 77.0), ('2017-07-30', 79.0), ('2017-07-31', 74.0), ('2017-08-01', 72.0), ('2017-08-02', 80.0), ('2017-08-03', 76.0), ('2017-08-05', 77.0), ('2017-08-06', 79.0), ('2017-08-07', 78.0), ('2017-08-08', 74.0), ('2017-08-09', 71.0), ('2017-08-10', 75.0), ('2017-08-11', 72.0), ('2017-08-12', 74.0), ('2017-08-13', 80.0), ('2017-08-14', 79.0), ('2017-08-15', 70.0), ('2017-08-16', 71.0), ('2017-08-17', 72.0), ('2017-08-18', 76.0), ('2017-08-19', 71.0), ('2017-08-20', 78.0), ('2017-08-21', 76.0), ('2017-08-22', 76.0), ('2017-08-23', 76.0)]\n"
     ]
    }
   ],
   "source": [
    "from flask import Flask, jsonify\n",
    "\n",
    "\n",
    "#app = Flask(__name__)\n",
    "\n",
    "hello_dict = engine.execute('SELECT date, tobs FROM measurement WHERE date >= \"2016-10-27\" AND date < \"2017-10-27\"').fetchall()\n",
    "hello_dict_df = hello_dict\n",
    "print(hello_dict)\n",
    "\n",
    "\n",
    "# @app.route(`/api/v1.0/precipitation`)\n",
    "# def precipitation():\n",
    "#     return \"Whale Hello There\"\n",
    "\n",
    "\n",
    "# @app.route(\"/normal\")\n",
    "# def normal():\n",
    "#     return hello_dict\n",
    "\n",
    "\n",
    "# @app.route(\"/jsonified\")\n",
    "# def jsonified():\n",
    "#     return jsonify(hello_dict)\n",
    "\n",
    "\n",
    "# if __name__ == \"__main__\":\n",
    "#     app.run(debug=True)\n"
   ]
  },
  {
   "cell_type": "code",
   "execution_count": null,
   "metadata": {},
   "outputs": [],
   "source": []
  },
  {
   "cell_type": "code",
   "execution_count": null,
   "metadata": {},
   "outputs": [],
   "source": []
  },
  {
   "cell_type": "code",
   "execution_count": null,
   "metadata": {},
   "outputs": [],
   "source": []
  }
 ],
 "metadata": {
  "kernel_info": {
   "name": "python3"
  },
  "kernelspec": {
   "display_name": "Python 3",
   "language": "python",
   "name": "python3"
  },
  "language_info": {
   "codemirror_mode": {
    "name": "ipython",
    "version": 3
   },
   "file_extension": ".py",
   "mimetype": "text/x-python",
   "name": "python",
   "nbconvert_exporter": "python",
   "pygments_lexer": "ipython3",
   "version": "3.6.6"
  },
  "nteract": {
   "version": "0.9.1"
  },
  "varInspector": {
   "cols": {
    "lenName": 16,
    "lenType": 16,
    "lenVar": 40
   },
   "kernels_config": {
    "python": {
     "delete_cmd_postfix": "",
     "delete_cmd_prefix": "del ",
     "library": "var_list.py",
     "varRefreshCmd": "print(var_dic_list())"
    },
    "r": {
     "delete_cmd_postfix": ") ",
     "delete_cmd_prefix": "rm(",
     "library": "var_list.r",
     "varRefreshCmd": "cat(var_dic_list()) "
    }
   },
   "types_to_exclude": [
    "module",
    "function",
    "builtin_function_or_method",
    "instance",
    "_Feature"
   ],
   "window_display": false
  }
 },
 "nbformat": 4,
 "nbformat_minor": 2
}
